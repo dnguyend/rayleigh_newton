{
  "nbformat": 4,
  "nbformat_minor": 0,
  "metadata": {
    "colab": {
      "name": "BPairsHomogeneousSurface.ipynb",
      "provenance": [],
      "authorship_tag": "ABX9TyOW+DCRfyOKCDQIcdUYBj41",
      "include_colab_link": true
    },
    "kernelspec": {
      "name": "python3",
      "display_name": "Python 3"
    },
    "language_info": {
      "name": "python"
    }
  },
  "cells": [
    {
      "cell_type": "markdown",
      "metadata": {
        "id": "view-in-github",
        "colab_type": "text"
      },
      "source": [
        "<a href=\"https://colab.research.google.com/github/dnguyend/rayleigh_newton/blob/master/colab/BPairsHomogeneousSurface.ipynb\" target=\"_parent\"><img src=\"https://colab.research.google.com/assets/colab-badge.svg\" alt=\"Open In Colab\"/></a>"
      ]
    },
    {
      "cell_type": "markdown",
      "source": [
        "$\\newcommand{\\cT}{\\mathcal{T}}$\n",
        "$\\newcommand{\\hcT}{\\hat{\\mathcal{T}}}$\n",
        "$\\newcommand{\\cB}{\\mathcal{B}}$\n",
        "$\\newcommand{\\C}{\\mathbb{C}}$\n",
        "$\\newcommand{\\R}{\\mathbb{R}}$\n",
        "# This workbook shows example of a BPair using the corresponding hypersurface constraint. Assume $m\\neq d$\n",
        "\n",
        "* Eigenpairs  \n",
        "$$\\cT(X^{[m-1]}) =\\lambda \\cB(X^{[d-1]}) $$\n",
        "$T(X[m−1])$  is a vector-valued function, from  $\\R^n$  to itself, each entry is homogeneous of order  $m−1$ . We also use the notation  $T(I,X[m−1])=T(X[m−1])$  The square bracket means the number of times  $X$  is repeated. Similarly\n",
        "$\\cB(X[m−1])$ is a vector-valued function with entries homogeneous polynomials of order $d-1$.\n",
        "\n",
        "* Use generalized Rayleigh quotient method.\n",
        "\n",
        "* Assume $X\\in \\R^n$, consider the constraints $\\cB(X^{[d]}) = 1$. This is not the most general case, we could have eigenpairs with $\\cB(X^{[d]}) = -1$ or $\\cB(X^{[d]}) = 0$, but we consider this case for simplicity. The left inverse is $ X^T$, the Rayleigh quotient is \n",
        "$$\\lambda = \\cT(X^{[m-1]})^TX.$$\n",
        "* if $\\cT$ is symmetric, $\\hcT(X^{[m]}):= \\cT(X^{[m-1]})^TX$ is scalar, homogeneous of order $m$ and $\\hcT' = m\\cT$.\n",
        "\n",
        "The eigenvalue count is \n",
        "$$\\frac{(m-1)^n - (d-1)^n}{m - d} = \\sum_{i=0}^{m-1}(m-1)^i(d-1)^{n-1-i}\n",
        "$$\n",
        "\n",
        "* Some cells may be hidden. Please download and open in colab, then expand the hidden cells\n",
        "First, clone the project from github\n"
      ],
      "metadata": {
        "id": "Yb_RdpX5TGJY"
      }
    },
    {
      "cell_type": "code",
      "execution_count": 1,
      "metadata": {
        "colab": {
          "base_uri": "https://localhost:8080/"
        },
        "id": "v8Sgjp2O8jhj",
        "outputId": "dfedcfe0-2acf-4342-c279-6e82d110fc21"
      },
      "outputs": [
        {
          "output_type": "stream",
          "name": "stdout",
          "text": [
            "Cloning into 'rayleigh_newton'...\n",
            "remote: Enumerating objects: 280, done.\u001b[K\n",
            "remote: Counting objects: 100% (280/280), done.\u001b[K\n",
            "remote: Compressing objects: 100% (142/142), done.\u001b[K\n",
            "remote: Total 280 (delta 145), reused 258 (delta 132), pack-reused 0\u001b[K\n",
            "Receiving objects: 100% (280/280), 14.81 MiB | 26.70 MiB/s, done.\n",
            "Resolving deltas: 100% (145/145), done.\n"
          ]
        }
      ],
      "source": [
        "!git clone https://github.com/dnguyend/rayleigh_newton"
      ]
    },
    {
      "cell_type": "markdown",
      "source": [
        "Importing main functions to be used later - but the code to find all complex eigen pairs is in the next block."
      ],
      "metadata": {
        "id": "kt3Lbaz6PcIa"
      }
    },
    {
      "cell_type": "code",
      "source": [
        "import numpy as np\n",
        "import numpy.linalg as la\n",
        "from rayleigh_newton.core import utils as ut\n",
        "from IPython.core.display import display\n",
        "from rayleigh_newton.core import bne_real_surface as bnr\n",
        "from rayleigh_newton.core import bne_eigen_tensor_solver as bne"
      ],
      "metadata": {
        "id": "wfSgzTdjZUXK"
      },
      "execution_count": 2,
      "outputs": []
    },
    {
      "cell_type": "markdown",
      "source": [
        "First, the real case with constraint $B(X^{[d]}) = \\epsilon$.\n",
        "The tangent space consisting of $\\eta$ with $B(\\eta, X^{[d-1]}) = 0$. For this, we create a class Bfeasible to model the feasible set. We include a retraction, sending a pair $(X, \\eta)$ to a point $\\gamma(X+\\eta)$ on the feasible set with $\\gamma > 0$.\n",
        "\n",
        "The Rayleigh quotient is $\\lambda= R(X)= \\epsilon T(X^{[m]})$.\n",
        "\n"
      ],
      "metadata": {
        "id": "vMCJtUyNX8hB"
      }
    },
    {
      "cell_type": "markdown",
      "source": [
        "Test this class: retraction and its derivatives"
      ],
      "metadata": {
        "id": "fFUeWBGLsXFL"
      }
    },
    {
      "cell_type": "code",
      "source": [
        "n = 5\n",
        "m = 4\n",
        "d = 3\n",
        "\n",
        "T = ut.generate_symmetric_tensor(n, m)\n",
        "B = ut.generate_symmetric_tensor(n, d)\n",
        "\n",
        "Bf = bnr.Bfeasible(B)\n",
        "x = Bf.rand()\n",
        "eta = Bf.randvec(x)\n",
        "print(\"Tangent vector is normal to B(x^{d-1}\")\n",
        "display(np.sum(ut.tv_mode_product(B, x, modes=d-1)*eta))\n",
        "\n",
        "x1 = Bf.tensor_rtr(x, eta)\n",
        "print(\"check that retraction gives a point on the constrained surface B(x^d) = 1\")\n",
        "display(ut.tv_mode_product(B, x, modes=d))\n",
        "\n",
        "# test D_tensor_rtr:\n",
        "dlt = 1e-7\n",
        "eta1 = Bf.randvec(x)\n",
        "\n",
        "print(\"test D_tensor_rtr:  derivative of Rtr is same as numerical derivative:\")\n",
        "print((Bf.tensor_rtr(x, eta + dlt*eta1) - Bf.tensor_rtr(x, eta))/dlt\n",
        "      - Bf.D_tensor_rtr(x, eta, eta1))\n",
        "print(\"test H_tensor_rtr:  H_tensor_rtr is same as 2nd numerical derivative:\")    \n",
        "print((Bf.D_tensor_rtr(x, dlt*eta, eta) - Bf.D_tensor_rtr(x, 0, eta))/dlt\n",
        "      - Bf.H_tensor_rtr(x, eta))"
      ],
      "metadata": {
        "colab": {
          "base_uri": "https://localhost:8080/",
          "height": 200
        },
        "id": "8KLo0JgFsXhi",
        "outputId": "c241fc5c-0f16-4679-d6ca-369ad8ec9483"
      },
      "execution_count": 3,
      "outputs": [
        {
          "output_type": "stream",
          "name": "stdout",
          "text": [
            "Tangent vector is normal to B(x^{d-1}\n"
          ]
        },
        {
          "output_type": "display_data",
          "data": {
            "text/plain": [
              "-3.3306690738754696e-16"
            ]
          },
          "metadata": {}
        },
        {
          "output_type": "stream",
          "name": "stdout",
          "text": [
            "check that retraction gives a point on the constrained surface B(x^d) = 1\n"
          ]
        },
        {
          "output_type": "display_data",
          "data": {
            "text/plain": [
              "array(1.)"
            ]
          },
          "metadata": {}
        },
        {
          "output_type": "stream",
          "name": "stdout",
          "text": [
            "test D_tensor_rtr:  derivative of Rtr is same as numerical derivative:\n",
            "[-1.04442687e-08  2.68265884e-08  5.77132842e-10  1.92579958e-08\n",
            "  2.14047011e-08]\n",
            "test H_tensor_rtr:  H_tensor_rtr is same as 2nd numerical derivative:\n",
            "[ 1.38343822e-07 -1.17522357e-06 -4.24282541e-07  7.58985151e-07\n",
            " -1.03112523e-08]\n"
          ]
        }
      ]
    },
    {
      "cell_type": "markdown",
      "source": [
        "# The Schur form iteration for the B tensor eigenpair"
      ],
      "metadata": {
        "id": "TfdaJwswR9WN"
      }
    },
    {
      "cell_type": "markdown",
      "source": [
        "Test run for the $B$ tensor pair. Showing at a solution various components of the Chebyshev term is zero.\n",
        "\n",
        "The only non zero term is $L_{XX}$"
      ],
      "metadata": {
        "id": "SPIN3VJhX-Ai"
      }
    },
    {
      "cell_type": "code",
      "source": [
        "n = 5\n",
        "m = 4\n",
        "d = 3\n",
        "# np.random.seed(0)\n",
        "T = ut.generate_symmetric_tensor(n, m)\n",
        "B = ut.generate_symmetric_tensor(n, d)\n",
        "max_itr = 200\n",
        "Bf = bnr.Bfeasible(B)\n",
        "ret = bnr.schur_form_B_tensor_rayleigh_chebyshev(\n",
        "        T, Bf, max_itr, delta=1e-8, x_init=None, do_chebyshev=False)\n",
        "print('doing RQI')\n",
        "print(ret)\n",
        "ret = bnr.schur_form_B_tensor_rayleigh_chebyshev(\n",
        "        T, Bf, max_itr, delta=1e-8, x_init=None, do_chebyshev=True)\n",
        "print('doing Rayleigh-Chebyshev')\n",
        "print(ret)\n",
        "\n",
        "x = ret[0]\n",
        "\n",
        "lbd = ut.tv_mode_product(T, x, m)\n",
        "# show various components are zeros\n",
        "\n",
        "print('Derivative of Rayleigh quotient at x_* = %.5f' %\n",
        "      bnr.Rayp(T, Bf, x, Bf.randvec(x)))\n",
        "\n",
        "eta = Bf.randvec(x)\n",
        "print('Projection of Lx Hessian of retraction =%s' %\n",
        "      str(Bf.Pi(x, bnr.Lx(T, Bf, x, lbd)@Bf.H_tensor_rtr(x, eta))))\n",
        "print('Projection of L_lambda=%s' %\n",
        "      str(Bf.Pi(x, bnr.tv_mode_product(Bf.B, x, Bf.d-1))))\n"
      ],
      "metadata": {
        "colab": {
          "base_uri": "https://localhost:8080/"
        },
        "id": "__QP56Pmcrsy",
        "outputId": "18d438f9-112d-46ef-bb6f-a6af2d0deabd"
      },
      "execution_count": 4,
      "outputs": [
        {
          "output_type": "stream",
          "name": "stdout",
          "text": [
            "doing RQI\n",
            "(array([0.2876865 , 0.30895075, 0.02789629, 0.49697842, 0.22450467]), 1.5129424422810336, 17, True, 5.438959822042073e-16)\n",
            "doing Rayleigh-Chebyshev\n",
            "(array([ 0.37588416,  0.49867558, -0.13448741, -0.55772844,  0.2387314 ]), -0.1295293405973719, 11, True, 1.0126982252310917e-16)\n",
            "Derivative of Rayleigh quotient at x_* = -0.00000\n",
            "Projection of Lx Hessian of retraction =[-9.99200722e-16 -1.11022302e-15 -3.33066907e-16 -1.22124533e-15\n",
            "  3.88578059e-16]\n",
            "Projection of L_lambda=[0. 0. 0. 0. 0.]\n"
          ]
        }
      ]
    },
    {
      "cell_type": "markdown",
      "source": [
        "This confirms the analysis in the paper."
      ],
      "metadata": {
        "id": "st_kIdTft_5n"
      }
    }
  ]
}