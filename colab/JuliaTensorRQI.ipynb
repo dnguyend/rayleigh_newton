{
  "nbformat": 4,
  "nbformat_minor": 0,
  "metadata": {
    "colab": {
      "provenance": [],
      "include_colab_link": true
    },
    "kernelspec": {
      "display_name": "Julia",
      "language": "julia",
      "name": "julia"
    },
    "language_info": {
      "file_extension": ".jl",
      "mimetype": "application/julia",
      "name": "julia"
    },
    "gpuClass": "standard"
  },
  "cells": [
    {
      "cell_type": "markdown",
      "metadata": {
        "id": "view-in-github",
        "colab_type": "text"
      },
      "source": [
        "<a href=\"https://colab.research.google.com/github/dnguyend/rayleigh_newton/blob/master/colab/JuliaTensorRQI.ipynb\" target=\"_parent\"><img src=\"https://colab.research.google.com/assets/colab-badge.svg\" alt=\"Open In Colab\"/></a>"
      ]
    },
    {
      "cell_type": "markdown",
      "metadata": {
        "id": "tQ1r1bbb0yBv"
      },
      "source": [
        "# <img src=\"https://github.com/JuliaLang/julia-logo-graphics/raw/master/images/julia-logo-color.png\" height=\"100\" />\n",
        "$\\newcommand{\\R}{\\mathbb{R}}$\n",
        "# Colab Notebook For Generalized Rayleigh Quotient Iteration and Rayleigh Chebyshev Iteration For Tensor Eigenvalue with a homogeneous constraint.\n",
        "\n",
        "* Solving the problem $A(I, X^{[m-1]}) = \\lambda B(I, X^{[d-1]})$ for a tensor $A$ of degree $m$ and $B$ of degree $d$, $X\\in \\R^n$. The constraint is $B(X)=1$, $B$ is a tensor of degree $d$.\n",
        "* Use the library Arblib for higher numerical precision to demonstrate cubic convergence.\n",
        "\n",
        "# Result: Confirming RQI has quadratic and Rayleigh-Chebyshev has cubic convergence order.\n",
        "* A sample numerical simulation:\n",
        "For random tensors $A$ and $B$ with $n=6, m=3, d=2$ at warm up point with error $\\lvert A(I, x) - \\lambda B(I, x)\\rvert = 7.250e-03$ The Newton and Chebyshev sequence of residual errors are\n",
        "\n",
        "|Iteration | Rayleigh(Newton) | Rayleigh Chebyshev (Chebyshev)|\n",
        "|---|---|---|\n",
        "|1|2.594e-04|2.042e-05|\n",
        "|2|3.080e-07|8.671e-14|\n",
        "|3|2.509e-13|2.690e-39|\n",
        "|4|1.049e-25|5.503e-115|\n",
        "\n",
        "\n",
        "# You can view the results as-is. If you want to run the code follow the instructions below\n",
        "## Instructions\n",
        "1. Work on a copy of this notebook: _File_ > _Save a copy in Drive_ (you will need a Google account). Alternatively, you can download the notebook using _File_ > _Download .ipynb_, then upload it to [Colab](https://colab.research.google.com/).\n",
        "2. If you need a GPU: _Runtime_ > _Change runtime type_ > _Harware accelerator_ = _GPU_.\n",
        "3. Execute the following cell (click on it and press Ctrl+Enter) to install Julia, IJulia and other packages (if needed, update `JULIA_VERSION` and the other parameters). **This takes a couple of minutes.**\n",
        "4. **Reload this page (press Ctrl+R, or ⌘+R, or the F5 key) and continue to the next section.**\n",
        "\n",
        "_Notes_:\n",
        "* If your Colab Runtime gets reset (e.g., due to inactivity), repeat steps 2, 3 and 4.\n",
        "* After installation, if you want to change the Julia version or activate/deactivate the GPU, you will need to reset the Runtime: _Runtime_ > _Factory reset runtime_ and repeat steps 3 and 4."
      ]
    },
    {
      "cell_type": "code",
      "metadata": {
        "id": "GIeFXS0F0zww",
        "colab": {
          "base_uri": "https://localhost:8080/"
        },
        "outputId": "81b56da2-6f3c-4fc3-c47d-650b3ad2b996"
      },
      "source": [
        "%%shell\n",
        "set -e\n",
        "\n",
        "#---------------------------------------------------#\n",
        "JULIA_VERSION=\"1.8.2\" # any version ≥ 0.7.0\n",
        "JULIA_PACKAGES=\"IJulia BenchmarkTools\"\n",
        "JULIA_PACKAGES_IF_GPU=\"CUDA\" # or CuArrays for older Julia versions\n",
        "JULIA_NUM_THREADS=2\n",
        "#---------------------------------------------------#\n",
        "\n",
        "if [ -z `which julia` ]; then\n",
        "  # Install Julia\n",
        "  JULIA_VER=`cut -d '.' -f -2 <<< \"$JULIA_VERSION\"`\n",
        "  echo \"Installing Julia $JULIA_VERSION on the current Colab Runtime...\"\n",
        "  BASE_URL=\"https://julialang-s3.julialang.org/bin/linux/x64\"\n",
        "  URL=\"$BASE_URL/$JULIA_VER/julia-$JULIA_VERSION-linux-x86_64.tar.gz\"\n",
        "  wget -nv $URL -O /tmp/julia.tar.gz # -nv means \"not verbose\"\n",
        "  tar -x -f /tmp/julia.tar.gz -C /usr/local --strip-components 1\n",
        "  rm /tmp/julia.tar.gz\n",
        "\n",
        "  # Install Packages\n",
        "  nvidia-smi -L &> /dev/null && export GPU=1 || export GPU=0\n",
        "  if [ $GPU -eq 1 ]; then\n",
        "    JULIA_PACKAGES=\"$JULIA_PACKAGES $JULIA_PACKAGES_IF_GPU\"\n",
        "  fi\n",
        "  for PKG in `echo $JULIA_PACKAGES`; do\n",
        "    echo \"Installing Julia package $PKG...\"\n",
        "    julia -e 'using Pkg; pkg\"add '$PKG'; precompile;\"' &> /dev/null\n",
        "  done\n",
        "\n",
        "  # Install kernel and rename it to \"julia\"\n",
        "  echo \"Installing IJulia kernel...\"\n",
        "  julia -e 'using IJulia; IJulia.installkernel(\"julia\", env=Dict(\n",
        "      \"JULIA_NUM_THREADS\"=>\"'\"$JULIA_NUM_THREADS\"'\"))'\n",
        "  KERNEL_DIR=`julia -e \"using IJulia; print(IJulia.kerneldir())\"`\n",
        "  KERNEL_NAME=`ls -d \"$KERNEL_DIR\"/julia*`\n",
        "  mv -f $KERNEL_NAME \"$KERNEL_DIR\"/julia  \n",
        "\n",
        "  echo ''\n",
        "  echo \"Successfully installed `julia -v`!\"\n",
        "  echo \"Please reload this page (press Ctrl+R, ⌘+R, or the F5 key) then\"\n",
        "  echo \"jump to the 'Checking the Installation' section.\"\n",
        "fi"
      ],
      "execution_count": null,
      "outputs": [
        {
          "output_type": "stream",
          "name": "stdout",
          "text": [
            "Installing Julia 1.8.2 on the current Colab Runtime...\n",
            "2023-02-13 19:08:52 URL:https://storage.googleapis.com/julialang2/bin/linux/x64/1.8/julia-1.8.2-linux-x86_64.tar.gz [135859273/135859273] -> \"/tmp/julia.tar.gz\" [1]\n",
            "Installing Julia package IJulia...\n",
            "Installing Julia package BenchmarkTools...\n",
            "Installing IJulia kernel...\n",
            "\u001b[36m\u001b[1m[ \u001b[22m\u001b[39m\u001b[36m\u001b[1mInfo: \u001b[22m\u001b[39mInstalling julia kernelspec in /root/.local/share/jupyter/kernels/julia-1.8\n",
            "\n",
            "Successfully installed julia version 1.8.2!\n",
            "Please reload this page (press Ctrl+R, ⌘+R, or the F5 key) then\n",
            "jump to the 'Checking the Installation' section.\n"
          ]
        },
        {
          "output_type": "execute_result",
          "data": {
            "text/plain": []
          },
          "metadata": {},
          "execution_count": 1
        }
      ]
    },
    {
      "cell_type": "markdown",
      "metadata": {
        "id": "-OS3Ac017T1i"
      },
      "source": [
        "# Checking the Installation\n",
        "**REMEMBER TO LOAD THE PAGE BY RUNNING F5 IF the following command does not work**\n",
        "\n",
        "The `versioninfo()` function should print your Julia version and some other info about the system:"
      ]
    },
    {
      "cell_type": "code",
      "metadata": {
        "id": "EEzvvzCl1i0F",
        "colab": {
          "base_uri": "https://localhost:8080/"
        },
        "outputId": "d9b4d146-788b-42a1-c44e-a5b7ab1900d6"
      },
      "source": [
        "versioninfo()"
      ],
      "execution_count": 1,
      "outputs": [
        {
          "output_type": "stream",
          "name": "stdout",
          "text": [
            "Julia Version 1.8.2\n",
            "Commit 36034abf260 (2022-09-29 15:21 UTC)\n",
            "Platform Info:\n",
            "  OS: Linux (x86_64-linux-gnu)\n",
            "  CPU: 2 × AMD EPYC 7B12\n",
            "  WORD_SIZE: 64\n",
            "  LIBM: libopenlibm\n",
            "  LLVM: libLLVM-13.0.1 (ORCJIT, znver2)\n",
            "  Threads: 2 on 2 virtual cores\n",
            "Environment:\n",
            "  LD_LIBRARY_PATH = /usr/local/nvidia/lib:/usr/local/nvidia/lib64\n",
            "  JULIA_NUM_THREADS = 2\n"
          ]
        }
      ]
    },
    {
      "cell_type": "markdown",
      "metadata": {
        "id": "oEqeweODYnq7"
      },
      "source": [
        "# Use Arblib to test the package to show higher precision\n",
        "\n",
        "Which demostrates Chebyshev has cubic convergence and Newton has quadratic convergence"
      ]
    },
    {
      "cell_type": "code",
      "metadata": {
        "id": "yQlpeR9wNOi8",
        "colab": {
          "base_uri": "https://localhost:8080/"
        },
        "outputId": "5b480d1c-b705-44d0-be37-a7c7f19be021"
      },
      "source": [
        "using Pkg\n",
        "Pkg.add(\"Arblib\")\n",
        "Pkg.add(\"PyCall\")\n",
        "\n",
        "using Arblib\n",
        "using LinearAlgebra\n",
        "using Printf\n",
        "import Random\n",
        "\n",
        "prec = 512\n",
        "# limitting to use m, d <= 3 so we can use Arblib\n",
        "using PyCall\n",
        "\n"
      ],
      "execution_count": 2,
      "outputs": [
        {
          "output_type": "stream",
          "name": "stderr",
          "text": [
            "\u001b[32m\u001b[1m    Updating\u001b[22m\u001b[39m registry at `~/.julia/registries/General.toml`\n",
            "\u001b[32m\u001b[1m   Resolving\u001b[22m\u001b[39m package versions...\n",
            "\u001b[32m\u001b[1m   Installed\u001b[22m\u001b[39m IrrationalConstants ─ v0.1.1\n",
            "\u001b[32m\u001b[1m   Installed\u001b[22m\u001b[39m OpenBLAS32_jll ────── v0.3.17+0\n",
            "\u001b[32m\u001b[1m   Installed\u001b[22m\u001b[39m FLINT_jll ─────────── v200.900.4+0\n",
            "\u001b[32m\u001b[1m   Installed\u001b[22m\u001b[39m Arb_jll ───────────── v200.2300.0+0\n",
            "\u001b[32m\u001b[1m   Installed\u001b[22m\u001b[39m Arblib ────────────── v0.8.1\n",
            "\u001b[32m\u001b[1m   Installed\u001b[22m\u001b[39m LogExpFunctions ───── v0.3.21\n",
            "\u001b[32m\u001b[1m   Installed\u001b[22m\u001b[39m SpecialFunctions ──── v2.1.7\n",
            "\u001b[32m\u001b[1m   Installed\u001b[22m\u001b[39m Compat ────────────── v4.6.0\n",
            "\u001b[32m\u001b[1m   Installed\u001b[22m\u001b[39m ChainRulesCore ────── v1.15.7\n",
            "\u001b[32m\u001b[1m   Installed\u001b[22m\u001b[39m OpenSpecFun_jll ───── v0.5.5+0\n",
            "\u001b[32m\u001b[1m   Installed\u001b[22m\u001b[39m InverseFunctions ──── v0.1.8\n",
            "\u001b[32m\u001b[1m   Installed\u001b[22m\u001b[39m ChangesOfVariables ── v0.1.5\n",
            "\u001b[32m\u001b[1m   Installed\u001b[22m\u001b[39m DocStringExtensions ─ v0.9.3\n",
            "\u001b[32m\u001b[1m    Updating\u001b[22m\u001b[39m `~/.julia/environments/v1.8/Project.toml`\n",
            " \u001b[90m [fb37089c] \u001b[39m\u001b[92m+ Arblib v0.8.1\u001b[39m\n",
            "\u001b[32m\u001b[1m    Updating\u001b[22m\u001b[39m `~/.julia/environments/v1.8/Manifest.toml`\n",
            " \u001b[90m [fb37089c] \u001b[39m\u001b[92m+ Arblib v0.8.1\u001b[39m\n",
            " \u001b[90m [d360d2e6] \u001b[39m\u001b[92m+ ChainRulesCore v1.15.7\u001b[39m\n",
            " \u001b[90m [9e997f8a] \u001b[39m\u001b[92m+ ChangesOfVariables v0.1.5\u001b[39m\n",
            " \u001b[90m [34da2185] \u001b[39m\u001b[92m+ Compat v4.6.0\u001b[39m\n",
            " \u001b[90m [ffbed154] \u001b[39m\u001b[92m+ DocStringExtensions v0.9.3\u001b[39m\n",
            " \u001b[90m [3587e190] \u001b[39m\u001b[92m+ InverseFunctions v0.1.8\u001b[39m\n",
            " \u001b[90m [92d709cd] \u001b[39m\u001b[92m+ IrrationalConstants v0.1.1\u001b[39m\n",
            " \u001b[90m [2ab3a3ac] \u001b[39m\u001b[92m+ LogExpFunctions v0.3.21\u001b[39m\n",
            " \u001b[90m [276daf66] \u001b[39m\u001b[92m+ SpecialFunctions v2.1.7\u001b[39m\n",
            " \u001b[90m [d9960996] \u001b[39m\u001b[92m+ Arb_jll v200.2300.0+0\u001b[39m\n",
            " \u001b[90m [e134572f] \u001b[39m\u001b[92m+ FLINT_jll v200.900.4+0\u001b[39m\n",
            "\u001b[33m⌅\u001b[39m\u001b[90m [656ef2d0] \u001b[39m\u001b[92m+ OpenBLAS32_jll v0.3.17+0\u001b[39m\n",
            " \u001b[90m [efe28fd5] \u001b[39m\u001b[92m+ OpenSpecFun_jll v0.5.5+0\u001b[39m\n",
            " \u001b[90m [781609d7] \u001b[39m\u001b[92m+ GMP_jll v6.2.1+2\u001b[39m\n",
            " \u001b[90m [3a97d323] \u001b[39m\u001b[92m+ MPFR_jll v4.1.1+1\u001b[39m\n",
            " \u001b[90m [05823500] \u001b[39m\u001b[92m+ OpenLibm_jll v0.8.1+0\u001b[39m\n",
            "\u001b[36m\u001b[1m        Info\u001b[22m\u001b[39m Packages marked with \u001b[33m⌅\u001b[39m have new versions available but compatibility constraints restrict them from upgrading. To see why use `status --outdated -m`\n",
            "\u001b[32m\u001b[1mPrecompiling\u001b[22m\u001b[39m project...\n",
            "\u001b[32m  ✓ \u001b[39m\u001b[90mOpenLibm_jll\u001b[39m\n",
            "\u001b[32m  ✓ \u001b[39m\u001b[90mCompat\u001b[39m\n",
            "\u001b[32m  ✓ \u001b[39m\u001b[90mIrrationalConstants\u001b[39m\n",
            "\u001b[32m  ✓ \u001b[39m\u001b[90mInverseFunctions\u001b[39m\n",
            "\u001b[32m  ✓ \u001b[39m\u001b[90mGMP_jll\u001b[39m\n",
            "\u001b[32m  ✓ \u001b[39m\u001b[90mOpenSpecFun_jll\u001b[39m\n",
            "\u001b[32m  ✓ \u001b[39m\u001b[90mOpenBLAS32_jll\u001b[39m\n",
            "\u001b[32m  ✓ \u001b[39m\u001b[90mDocStringExtensions\u001b[39m\n",
            "\u001b[32m  ✓ \u001b[39m\u001b[90mMPFR_jll\u001b[39m\n",
            "\u001b[32m  ✓ \u001b[39m\u001b[90mFLINT_jll\u001b[39m\n",
            "\u001b[32m  ✓ \u001b[39m\u001b[90mArb_jll\u001b[39m\n",
            "\u001b[32m  ✓ \u001b[39m\u001b[90mChainRulesCore\u001b[39m\n",
            "\u001b[32m  ✓ \u001b[39m\u001b[90mChangesOfVariables\u001b[39m\n",
            "\u001b[32m  ✓ \u001b[39m\u001b[90mLogExpFunctions\u001b[39m\n",
            "\u001b[32m  ✓ \u001b[39m\u001b[90mSpecialFunctions\u001b[39m\n",
            "\u001b[32m  ✓ \u001b[39mArblib\n",
            "  16 dependencies successfully precompiled in 19 seconds. 20 already precompiled.\n",
            "\u001b[32m\u001b[1m   Resolving\u001b[22m\u001b[39m package versions...\n",
            "\u001b[32m\u001b[1m   Installed\u001b[22m\u001b[39m MacroTools ─ v0.5.10\n",
            "\u001b[32m\u001b[1m   Installed\u001b[22m\u001b[39m PyCall ───── v1.95.1\n",
            "\u001b[32m\u001b[1m    Updating\u001b[22m\u001b[39m `~/.julia/environments/v1.8/Project.toml`\n",
            " \u001b[90m [438e738f] \u001b[39m\u001b[92m+ PyCall v1.95.1\u001b[39m\n",
            "\u001b[32m\u001b[1m    Updating\u001b[22m\u001b[39m `~/.julia/environments/v1.8/Manifest.toml`\n",
            " \u001b[90m [1914dd2f] \u001b[39m\u001b[92m+ MacroTools v0.5.10\u001b[39m\n",
            " \u001b[90m [438e738f] \u001b[39m\u001b[92m+ PyCall v1.95.1\u001b[39m\n",
            "\u001b[32m\u001b[1m    Building\u001b[22m\u001b[39m PyCall → `~/.julia/scratchspaces/44cfe95a-1eb2-52ea-b672-e2afdf69b78f/62f417f6ad727987c755549e9cd88c46578da562/build.log`\n",
            "\u001b[32m\u001b[1mPrecompiling\u001b[22m\u001b[39m project...\n",
            "\u001b[32m  ✓ \u001b[39m\u001b[90mMacroTools\u001b[39m\n",
            "\u001b[32m  ✓ \u001b[39mPyCall\n",
            "  2 dependencies successfully precompiled in 9 seconds. 36 already precompiled.\n"
          ]
        }
      ]
    },
    {
      "cell_type": "markdown",
      "source": [
        "# a few functions to generate random symmetric tensors"
      ],
      "metadata": {
        "id": "a38-r8-o6Lu8"
      }
    },
    {
      "cell_type": "code",
      "source": [
        "py\"\"\"\n",
        "import numpy as np\n",
        "def generate_symmetric_tensor(k, m, seed):\n",
        "    np.random.seed(seed)\n",
        "    A = np.full(tuple(m*[k]), np.nan)\n",
        "    current_idx = np.zeros(m, dtype=int)\n",
        "    active_i = m - 1\n",
        "    A[tuple(current_idx)] = np.random.rand()\n",
        "    while True:\n",
        "        if current_idx[active_i] < k - 1:\n",
        "            current_idx[active_i] += 1\n",
        "            if np.isnan(A[tuple(current_idx)]):\n",
        "                i_s = tuple(sorted(current_idx))\n",
        "                if np.isnan(A[i_s]):\n",
        "                    A[i_s] = np.random.rand()\n",
        "                A[tuple(current_idx)] = A[i_s]\n",
        "        elif active_i == 0:\n",
        "            break\n",
        "        else:\n",
        "            next_pos = np.where(current_idx[:active_i] < k-1)[0]\n",
        "            if next_pos.shape[0] == 0:\n",
        "                break\n",
        "            current_idx[next_pos[-1]] += 1\n",
        "            current_idx[next_pos[-1]+1:] = 0\n",
        "                        \n",
        "            active_i = m - 1\n",
        "            if np.isnan(A[tuple(current_idx)]):\n",
        "                i_s = tuple(sorted(current_idx))\n",
        "                if np.isnan(A[i_s]):\n",
        "                    A[i_s] = np.random.rand()\n",
        "                A[tuple(current_idx)] = A[i_s]\n",
        "    return A\n",
        "\"\"\"\n",
        "\n",
        "function RandSymmetricArb3Tensor(k, seed)\n",
        "    Apy = py\"generate_symmetric_tensor\"(k, 3, seed)\n",
        "    A = Vector{ArbMatrix}(undef, k)\n",
        "    for i in 1:k\n",
        "        A[i] = ArbMatrix(Apy[:, :, i], prec=prec)\n",
        "    end\n",
        "    return A, Apy\n",
        "end    \n",
        "\n",
        "function RandSymmetricArbMatrix(k, seed)\n",
        "    B = py\"generate_symmetric_tensor\"(k, 2, seed)\n",
        "    return ArbMatrix(B, prec=prec)\n",
        "end\n",
        "\n",
        "@inline function RandArbVec(k)\n",
        "    return ArbVector(Random.rand(k), prec=prec)\n",
        "end    \n",
        "\n",
        "function randAB(m, d, k, seed)\n",
        "    if m == d\n",
        "        seed_d = seed + 5\n",
        "    else\n",
        "        seed_d = seed\n",
        "    end\n",
        "    if m == 2\n",
        "        A = RandSymmetricArbMatrix(k, seed)\n",
        "    else    \n",
        "        A, Apy = RandSymmetricArb3Tensor(k, seed)    \n",
        "    end\n",
        "    \n",
        "    if d == 2\n",
        "        B = RandSymmetricArbMatrix(k, seed_d)\n",
        "    else\n",
        "        B, Bpy = RandSymmetricArb3Tensor(k, seed_d)\n",
        "    end\n",
        "    return A, B\n",
        "end    \n"
      ],
      "metadata": {
        "id": "SU2reSwCJKXO",
        "colab": {
          "base_uri": "https://localhost:8080/"
        },
        "outputId": "870d232d-d675-4394-a5cd-fad52cb8eb6c"
      },
      "execution_count": 3,
      "outputs": [
        {
          "output_type": "execute_result",
          "data": {
            "text/plain": [
              "randAB (generic function with 1 method)"
            ]
          },
          "metadata": {},
          "execution_count": 3
        }
      ]
    },
    {
      "cell_type": "markdown",
      "source": [
        "# Helper functions to evaluate tensors"
      ],
      "metadata": {
        "id": "TK1LucBX6aB0"
      }
    },
    {
      "cell_type": "code",
      "source": [
        "\n",
        "function EvalTensor(T, x, m)\n",
        "    # function, tensor, gradient. Relation:\n",
        "    # Fv' = m*F1, Fv^(2) = m(m-1)F2, Fv^(3) = (m-2)(m-1)m F3\n",
        "    # F1' = (m-1)*F2\n",
        "    # F2' = (m-2)*F3\n",
        "    # m is 2 or 3 to work with ArbMatrix\n",
        "    if m == 2\n",
        "        F2 = 0\n",
        "        F1 = T\n",
        "        F0 = T*x\n",
        "        Fv = sum(F0.*x)\n",
        "    else\n",
        "        F2 = T\n",
        "        F1 = ArbMatrix(zeros(k, k), prec=prec)\n",
        "        for i in 1:k\n",
        "            F1 .+= x[i]*F2[i]\n",
        "        end\n",
        "        F0 = F1*x\n",
        "        Fv = sum(F0.*x)\n",
        "    end\n",
        "    return Fv, F0, F1, F2\n",
        "end    \n",
        "\n"
      ],
      "metadata": {
        "colab": {
          "base_uri": "https://localhost:8080/"
        },
        "id": "p3E-tWIhKuga",
        "outputId": "6b9c7b52-1c56-4445-e878-26cc119af210"
      },
      "execution_count": 4,
      "outputs": [
        {
          "output_type": "execute_result",
          "data": {
            "text/plain": [
              "EvalTensor (generic function with 1 method)"
            ]
          },
          "metadata": {},
          "execution_count": 4
        }
      ]
    },
    {
      "cell_type": "markdown",
      "source": [
        "Helper function for the constraint set $M$ defined by $B(x) = 1$:\n",
        "* Generating a random point\n",
        "* Generating random vector at the random point\n",
        "* Projection *proj_tan* to the tangent bundle $TM$\n",
        "* Projection $\\Pi$ to the vector bundle $E_{\\Pi}$\n",
        "* Retraction *Trtr* by scaling down to $B(x) = 1$ if $B(x) > 0$.\n",
        "* $get\\_xperp$ gives the complement basis of x $assume $x^Tx =1$"
      ],
      "metadata": {
        "id": "Ex3Wxb6W6hp1"
      }
    },
    {
      "cell_type": "code",
      "source": [
        "function randPoint()\n",
        "    while true\n",
        "        x = RandArbVec(k)\n",
        "        vv = EvalTensor(B, x, d)[1]\n",
        "        if vv > 0\n",
        "            return x / real_root(vv, d)\n",
        "        end\n",
        "    end\n",
        "end    \n",
        "\n",
        "function proj_tan(x, omg)\n",
        "    # projection to the tangent bundle\n",
        "    V = EvalTensor(B, x, d)\n",
        "    return omg - x*sum(V[2].*omg)\n",
        "end    \n",
        "\n",
        "function Pi(x, omg)\n",
        "    # projection to the vector bundle E\n",
        "    V = EvalTensor(B, x, d)\n",
        "    return omg - V[2]*sum(x.*omg)\n",
        "end    \n",
        "\n",
        "function randvec(x)\n",
        "    return proj_tan(x, RandArbVec(k))\n",
        "end    \n",
        "\n",
        "function real_root(v, d)\n",
        "    if (v < 0) & (d % 2 == 0)\n",
        "        return NaN\n",
        "    end\n",
        "    return sign(v)*abs(v)^(1/d)\n",
        "end        \n",
        "\n",
        "function Trtr(x, eta)\n",
        "    # retraction\n",
        "    v = x+eta\n",
        "    V = EvalTensor(B, v, d)\n",
        "    return v / real_root(V[1], d)\n",
        "end    \n",
        "\n",
        "function get_xperp(x)\n",
        "    Q = 2.0*(x[1] > 0) - 1\n",
        "    P = x[1]/Q\n",
        "    return vcat(\n",
        "        -Q*reshape(x[2:end], 1, k-1),\n",
        "        I(k-1)-1/(1+P)*reshape(x[2:end], k-1, 1)*reshape(x[2:end], 1, k-1))\n",
        "end    \n"
      ],
      "metadata": {
        "colab": {
          "base_uri": "https://localhost:8080/"
        },
        "id": "Xe7oUP-7KrdZ",
        "outputId": "8085eb6f-0937-4cbf-aa47-9a57af76ab33"
      },
      "execution_count": 5,
      "outputs": [
        {
          "output_type": "execute_result",
          "data": {
            "text/plain": [
              "get_xperp (generic function with 1 method)"
            ]
          },
          "metadata": {},
          "execution_count": 5
        }
      ]
    },
    {
      "cell_type": "markdown",
      "source": [
        "Assume there are tensors $A$ of size $k$ order $m$ and $B$ of size $k, d$, define the functions $L$ and its derivatives, function $Ray$ (its Rayleigh quotient) and function $F= L(x, Ray(x))$"
      ],
      "metadata": {
        "id": "GIAbYYC19c1l"
      }
    },
    {
      "cell_type": "code",
      "source": [
        "function Ray(x)\n",
        "    VA = EvalTensor(A, x, m)\n",
        "    return sum(x.*VA[2])\n",
        "end    \n",
        "\n",
        "\n",
        "function L(x, lbd)\n",
        "    VA = EvalTensor(A, x, m)\n",
        "    VB = EvalTensor(B, x, d)\n",
        "    Lv = VA[2] - VB[2]*lbd\n",
        "    Lx = (m-1)*VA[3] - (d-1)*lbd*VB[3]\n",
        "    Llbd = - VB[2]\n",
        "    Lxx = Vector{ArbMatrix}(undef, k)\n",
        "    \n",
        "    for i in 1:k\n",
        "        if (m == 2) & (d == 2)\n",
        "            Lxx[i] = 0\n",
        "        elseif m == 2\n",
        "            Lxx[i] = ArbMatrix(- (d-2)*(d-1)*VB[4][i]*lbd, prec=prec)\n",
        "        elseif d == 2\n",
        "            Lxx[i] = ArbMatrix((m-2)*(m-1)*VA[4][i], prec=prec)\n",
        "        else\n",
        "            Lxx[i] = ArbMatrix((m-2)*(m-1)*VA[4][i] - (d-2)*(d-1)*VB[4][i]*lbd, prec=prec)\n",
        "        end\n",
        "    end\n",
        "    Lxlbd = -(d-1)*VB[3]\n",
        "\n",
        "    return Lv, Lx, Llbd, Lxx, Lxlbd\n",
        "end\n",
        "\n",
        "function F(x)\n",
        "    VA = EvalTensor(A, x, m)\n",
        "    VB = EvalTensor(B, x, d)\n",
        "    lbd = sum(x.*VA[2])\n",
        "    Lv = VA[2] - VB[2]*lbd\n",
        "    Lx = (m-1)*VA[3] - (d-1)*lbd*VB[3]\n",
        "    Llbd = - VB[2]\n",
        "    Lxx = Vector{ArbMatrix}(undef, k)\n",
        "    \n",
        "    for i in 1:k\n",
        "        if (m == 2) & (d == 2)\n",
        "            Lxx[i] = 0\n",
        "        elseif m == 2\n",
        "            Lxx[i] = ArbMatrix(- (d-2)*(d-1)*VB[4][i]*lbd, prec=prec)\n",
        "        elseif d == 2\n",
        "            Lxx[i] = ArbMatrix((m-2)*(m-1)*VA[4][i], prec=prec)\n",
        "        else\n",
        "            Lxx[i] = ArbMatrix((m-2)*(m-1)*VA[4][i] - (d-2)*(d-1)*VB[4][i]*lbd, prec=prec)\n",
        "        end\n",
        "    end\n",
        "    Lxlbd = -(d-1)*VB[3]\n",
        "    \n",
        "    return Lv, lbd, Lx, Llbd, Lxx, Lxlbd\n",
        "end    \n"
      ],
      "metadata": {
        "colab": {
          "base_uri": "https://localhost:8080/"
        },
        "id": "mkuik530R9l6",
        "outputId": "5ef94160-1b80-4184-e0bf-cd4110edfbc4"
      },
      "execution_count": 6,
      "outputs": [
        {
          "output_type": "execute_result",
          "data": {
            "text/plain": [
              "F (generic function with 1 method)"
            ]
          },
          "metadata": {},
          "execution_count": 6
        }
      ]
    },
    {
      "cell_type": "markdown",
      "source": [
        "# Newton and Chebyshev steps\n",
        "Assume global tensors are defined (to be defined in a moment"
      ],
      "metadata": {
        "id": "3mysuNAv-yQ8"
      }
    },
    {
      "cell_type": "code",
      "source": [
        "        \n",
        "function NewtonInc(x)\n",
        "    VB = EvalTensor(B, x, d)\n",
        "    FF = F(x)\n",
        "    tperp = get_xperp(VB[2]/norm(VB[2]))\n",
        "    xperp = get_xperp(x/norm(x))\n",
        "    P = I(k) - reshape(VB[2], k, 1)*reshape(x, 1, k)\n",
        "    luLx = lu(xperp'*P*FF[3]*tperp)\n",
        "    nts = ArbMatrix(zeros(k-1, 1), prec=prec)\n",
        "    ldiv!(nts, luLx, xperp'*FF[1])\n",
        "    return - tperp*nts\n",
        "end    \n",
        "\n",
        "function NewtonStep(x)\n",
        "    VB = EvalTensor(B, x, d)\n",
        "    FF = F(x)\n",
        "    tperp = get_xperp(VB[2]/norm(VB[2]))\n",
        "    xperp = get_xperp(x/norm(x))\n",
        "    \n",
        "    P = I(k) - reshape(VB[2], k, 1)*reshape(x, 1, k)\n",
        "    luLx = lu(xperp'*P*FF[3]*tperp)\n",
        "    nts = ArbMatrix(zeros(k-1, 1), prec=prec)\n",
        "    ldiv!(nts, luLx, xperp'*FF[1])\n",
        "\n",
        "    return Trtr(x, - tperp*nts)\n",
        "end    \n",
        "\n",
        "function ChevStep(x)\n",
        "    VB = EvalTensor(B, x, d)\n",
        "    FF = F(x)        \n",
        "    tperp = get_xperp(VB[2]/norm(VB[2]))\n",
        "    xperp = get_xperp(x/norm(x))\n",
        "\n",
        "    P = I(k) - reshape(VB[2], k, 1)*reshape(x, 1, k)\n",
        "    luLx = lu(xperp'*P*FF[3]*tperp)\n",
        "    nts = ArbMatrix(zeros(k-1, 1), prec=prec)\n",
        "    ldiv!(nts, luLx, xperp'*FF[1])\n",
        "    \n",
        "    ninc = - tperp*nts\n",
        "\n",
        "    if (m == 2) & (d == 2)\n",
        "        return Trtr(x, ninc)\n",
        "    else\n",
        "        Lxx2 = ArbMatrix(zeros(k, k), prec=prec)\n",
        "        for i in 1:k\n",
        "            Lxx2 .+= FF[5][i]*ninc[i]\n",
        "        end\n",
        "        PG = Pi(x, Lxx2*ninc)\n",
        "        # np.tensordot(np.tensordot(FF[4], ninc, axes=1), ninc, axes=1)\n",
        "        tts = ArbMatrix(zeros(k-1, 1), prec=prec)    \n",
        "        ldiv!(tts, luLx, xperp'*PG)\n",
        "        ginc = tperp*tts\n",
        "        return Trtr(x, ninc - 0.5*ginc)\n",
        "    end    \n",
        "end\n",
        "\n",
        "function NewtonSchur(x)\n",
        "    VA = EvalTensor(A, x, m)\n",
        "    VB = EvalTensor(B, x, d)\n",
        "    FF = F(x)\n",
        "    lbd = FF[2]\n",
        "    Lx = (m-1)*VA[3] - (d-1)*lbd*VB[3]\n",
        "    # luLx = lu(lx\n",
        "    # LxiL = simple_solve(luLx, FF[0])\n",
        "    # LxiLbd = la.solve((m-1)*VA[2] - (d-1)*VB[2]*lbd, FF[3])\n",
        "    ret = ldiv!(lu(Lx), hcat(FF[1], FF[4]))\n",
        "    eta = - ret[:, 1] + ret[:, 2]/sum(VB[2].*ret[:, 2])*sum(VB[2].*ret[:, 1])\n",
        "    return Trtr(x, eta)\n",
        "end\n",
        "\n",
        "\n",
        "function ChevSchur(x)\n",
        "    VA = EvalTensor(A, x, m)    \n",
        "    VB = EvalTensor(B, x, d)\n",
        "    FF = F(x)        \n",
        "    lbd = FF[2]\n",
        "    Lx = (m-1)*VA[3] - (d-1)*lbd*VB[3]\n",
        "    luLx = lu(Lx)\n",
        "    ret = ldiv!(luLx, hcat(FF[1], FF[4]))\n",
        "\n",
        "    ninc = - ret[:, 1] + ret[:, 2]/sum(VB[2].*ret[:, 2])*sum(VB[2].*ret[:, 1])\n",
        "    if (m == 2) & (d == 2)\n",
        "        return Trtr(x, ninc)\n",
        "    else\n",
        "        Lxx2 = ArbMatrix(zeros(k, k), prec=prec)\n",
        "        for i in 1:k\n",
        "            Lxx2 .+= FF[5][i]*ninc[i]\n",
        "        end\n",
        "        ginc0 = ldiv!(luLx, Lxx2)*ninc\n",
        "        ginc = ginc0 - ret[:, 2]/sum(VB[2].*ret[:, 2])*sum(VB[2].*ginc0)        \n",
        "        return Trtr(x, ninc - 0.5*ginc)\n",
        "    end    \n",
        "end\n",
        "\n"
      ],
      "metadata": {
        "colab": {
          "base_uri": "https://localhost:8080/"
        },
        "id": "A0heatxXX-RI",
        "outputId": "e6bf6afa-a16a-47ca-c772-750cef6c036f"
      },
      "execution_count": 7,
      "outputs": [
        {
          "output_type": "execute_result",
          "data": {
            "text/plain": [
              "ChevSchur (generic function with 1 method)"
            ]
          },
          "metadata": {},
          "execution_count": 7
        }
      ]
    },
    {
      "cell_type": "markdown",
      "source": [
        "# Generating the tensors - check the Rayleigh and the Chebyshev steps are close in the Newton and Schur form"
      ],
      "metadata": {
        "id": "3o7sJf7C_JYT"
      }
    },
    {
      "cell_type": "code",
      "source": [
        "seed = 3\n",
        "Random.seed!(seed)\n",
        "k = 8\n",
        "m = 3\n",
        "d = 3\n",
        "A, B = randAB(m, d, k, seed)\n",
        "\n",
        "x = randPoint()\n",
        "\n",
        "@printf(\"Newton diff %.3e\\n\", sum(NewtonStep(x) - NewtonSchur(x))/k^2)\n",
        "@printf(\"Chev diff %.3e\\n\", sum(ChevStep(x) - ChevSchur(x))/k^2)\n"
      ],
      "metadata": {
        "colab": {
          "base_uri": "https://localhost:8080/"
        },
        "id": "bvj06GNtcmeF",
        "outputId": "3deca5f4-c3d4-412f-94e6-e66cc77c9f25"
      },
      "execution_count": 8,
      "outputs": [
        {
          "output_type": "stream",
          "name": "stdout",
          "text": [
            "Newton diff 3.962e-19\n",
            "Chev diff 7.047e-20\n"
          ]
        }
      ]
    },
    {
      "cell_type": "markdown",
      "source": [
        "# Show convergence"
      ],
      "metadata": {
        "id": "v8dARiZ2_fKC"
      }
    },
    {
      "cell_type": "code",
      "source": [
        "function run_a_group(x)\n",
        "  @printf(\"k=%d m=%d d=%d\\n\", k, m, d)\n",
        "  for i in 1:30\n",
        "      x = NewtonStep(x)\n",
        "      err = norm(F(x)[1])\n",
        "      @printf(\"WARM UP %.3e\\n\", err)\n",
        "      if isnan(err) | (err < 5e-2)\n",
        "          break\n",
        "      end\n",
        "  end\n",
        "\n",
        "  xx = copy(x)\n",
        "  for i in 1:30\n",
        "      # xx = NewtonStep(xx)\n",
        "      # eta = NewtonSchur(xx)\n",
        "      xx = NewtonSchur(xx)\n",
        "      err = norm(F(xx)[1])\n",
        "      @printf(\"Newton %.3e\\n\", err)\n",
        "      if isnan(err) | (err < 1e-24 )\n",
        "          break\n",
        "      end\n",
        "  end\n",
        "\n",
        "  xx = copy(x)\n",
        "  for i in 1:30\n",
        "      # xx = ChevStep(xx)\n",
        "      xx = ChevSchur(xx)\n",
        "      err = norm(F(xx)[1])\n",
        "      @printf(\"Chebyshev %.3e\\n\", err)\n",
        "      if isnan(err) | (err < 1e-40)\n",
        "          break\n",
        "      end\n",
        "  end    \n",
        "end\n",
        "run_a_group(x)\n"
      ],
      "metadata": {
        "colab": {
          "base_uri": "https://localhost:8080/"
        },
        "id": "62sDI717WdIS",
        "outputId": "961cd596-b28d-463f-dd27-d267eb3d6abe"
      },
      "execution_count": 9,
      "outputs": [
        {
          "output_type": "stream",
          "name": "stdout",
          "text": [
            "k=8 m=3 d=3\n",
            "WARM UP 1.928e+00\n",
            "WARM UP 1.525e+00\n",
            "WARM UP 8.686e-01\n",
            "WARM UP 1.447e+00\n",
            "WARM UP 1.382e+00\n",
            "WARM UP 6.899e-01\n",
            "WARM UP 1.398e-01\n",
            "WARM UP 8.673e-02\n",
            "WARM UP 8.301e-03\n",
            "Newton 5.915e-04\n",
            "Newton 1.290e-06\n",
            "Newton 8.983e-12\n",
            "Newton 8.546e-23\n",
            "Newton NaN\n",
            "Chebyshev 6.623e-05\n",
            "Chebyshev 4.124e-12\n",
            "Chebyshev 5.261e-34\n",
            "Chebyshev NaN\n"
          ]
        }
      ]
    },
    {
      "cell_type": "markdown",
      "source": [
        "# More tests:"
      ],
      "metadata": {
        "id": "Yu7jCrkkBF1H"
      }
    },
    {
      "cell_type": "code",
      "source": [
        "seed = 2\n",
        "Random.seed!(seed)\n",
        "k = 4\n",
        "m = 3\n",
        "d = 2\n",
        "A, B = randAB(m, d, k, seed)\n",
        "\n",
        "x = randPoint()\n",
        "run_a_group(x)"
      ],
      "metadata": {
        "colab": {
          "base_uri": "https://localhost:8080/"
        },
        "id": "Xo_tYFW1ed-B",
        "outputId": "1cadd590-480e-40e5-96c4-40f7044876b9"
      },
      "execution_count": 10,
      "outputs": [
        {
          "output_type": "stream",
          "name": "stdout",
          "text": [
            "k=4 m=3 d=2\n",
            "WARM UP 2.488e+00\n",
            "WARM UP 1.674e-01\n",
            "WARM UP 2.544e-02\n",
            "Newton 1.060e-03\n",
            "Newton 1.336e-06\n",
            "Newton 3.608e-13\n",
            "Newton 6.078e-26\n",
            "Chebyshev 8.235e-05\n",
            "Chebyshev 5.893e-14\n",
            "Chebyshev 3.303e-40\n",
            "Chebyshev 6.369e-119\n"
          ]
        }
      ]
    },
    {
      "cell_type": "code",
      "source": [
        "seed = 0\n",
        "Random.seed!(seed)\n",
        "k = 6\n",
        "m = 3\n",
        "d = 2\n",
        "A, B = randAB(m, d, k, seed)\n",
        "\n",
        "x = randPoint()\n",
        "run_a_group(x)"
      ],
      "metadata": {
        "colab": {
          "base_uri": "https://localhost:8080/"
        },
        "id": "fRFM1CuQCQp5",
        "outputId": "a577950a-4ea9-453a-fab1-1d64ea44e4db"
      },
      "execution_count": 11,
      "outputs": [
        {
          "output_type": "stream",
          "name": "stdout",
          "text": [
            "k=6 m=3 d=2\n",
            "WARM UP 7.245e-02\n",
            "WARM UP 7.250e-03\n",
            "Newton 2.594e-04\n",
            "Newton 3.080e-07\n",
            "Newton 2.509e-13\n",
            "Newton 1.049e-25\n",
            "Chebyshev 2.042e-05\n",
            "Chebyshev 8.671e-14\n",
            "Chebyshev 2.690e-39\n",
            "Chebyshev 5.503e-115\n"
          ]
        }
      ]
    }
  ]
}