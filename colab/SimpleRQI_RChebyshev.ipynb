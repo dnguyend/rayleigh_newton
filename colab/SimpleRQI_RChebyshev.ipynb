{
  "nbformat": 4,
  "nbformat_minor": 0,
  "metadata": {
    "colab": {
      "name": "SimpleRQI-RChebyshev.ipynb",
      "provenance": [],
      "authorship_tag": "ABX9TyNuATOlOAMcQ6repw4Phwyp",
      "include_colab_link": true
    },
    "kernelspec": {
      "name": "python3",
      "display_name": "Python 3"
    },
    "language_info": {
      "name": "python"
    }
  },
  "cells": [
    {
      "cell_type": "markdown",
      "metadata": {
        "id": "view-in-github",
        "colab_type": "text"
      },
      "source": [
        "<a href=\"https://colab.research.google.com/github/dnguyend/rayleigh_newton/blob/master/colab/SimpleRQI_RChebyshev.ipynb\" target=\"_parent\"><img src=\"https://colab.research.google.com/assets/colab-badge.svg\" alt=\"Open In Colab\"/></a>"
      ]
    },
    {
      "cell_type": "markdown",
      "source": [
        "# A simple example of Rayleigh and Rayleigh Chebyshev with non trivial Hessian of the retraction.\n",
        "\n",
        "Set up the main functions\n",
        "$$L(X, \\lambda) = A(X) - \\lambda X = \\begin{bmatrix}5 + 2x_0x_1\\\\\n",
        " -1 + x_0^2\\end{bmatrix} - \\lambda\\begin{bmatrix}x_0\\\\x_1\\end{bmatrix}\n",
        "$$\n",
        "With the constraint $X^TX = 1$. We show the term $L_X r_{\\eta\\eta}(X, .)\\eta^{[2]}$ is required for the Chebyshev step to have cubic convergence.\n",
        "\n",
        "We consider the solution at $X = \\begin{bmatrix}1\\\\0\\end{bmatrix}$. The circle is parametrized by\n",
        "\n",
        "$X = \\left[\\begin{matrix}\\frac{4-t^2}{4+t^2}\\\\ \\frac{4t}{4+t^2}\\end{matrix}\\right]$\n",
        "$    = \\begin{bmatrix} 1 -\\frac{1}{2}t^2\\\\ t\\end{bmatrix}+ O(t^3)$"
      ],
      "metadata": {
        "id": "jUpKXAIvJtEq"
      }
    },
    {
      "cell_type": "code",
      "metadata": {
        "id": "elGnvcKpRJ8e"
      },
      "source": [
        "import sympy as sp\n",
        "\n",
        "# a1 = sp.symbols('a1')\n",
        "# c000, c001, c011, c111 = sp.symbols('c000 c001 c011 c111')\n",
        "a0 = sp.Integer(5)\n",
        "\n",
        "c001 = sp.Integer(1)\n",
        "a1 = - c001\n",
        "\n",
        "def L(x, lbd):\n",
        "  l0 = a0 + 2*c001*x[0]*x[1]\n",
        "  l1 = -c001 + c001*x[0]*x[0]\n",
        "  return sp.Matrix([[l0 - lbd*x[0], l1 - lbd*x[1]]]).T\n",
        "\n",
        "def Lx(x, lbd):\n",
        "  l00 = sp.Integer(2)*c001*x[1] \n",
        "  l01 = sp.Integer(2)*c001*x[0]\n",
        "  l10 = sp.Integer(2)*c001*x[0]\n",
        "  l11 = sp.Integer(0)\n",
        "  return sp.Matrix([[l00 - lbd, l01], [l10 , l11 - lbd]])\n",
        "\n",
        "def Llbd(x, lbd):\n",
        "  return -x\n",
        "\n",
        "def Lxx(x, lbd, eta):\n",
        "  lxx0 = 2*c001*eta[1]*eta[0] + 2*c001*eta[0]*eta[1]\n",
        "  lxx1 = 2*c001*eta[0]*eta[0]\n",
        "  return sp.Matrix([[lxx0, lxx1]]).T\n",
        "\n",
        "def R(x):\n",
        "  l0 = a0 + 2*c001*x[0]*x[1]\n",
        "  l1 = a1 + c001*x[0]*x[0]\n",
        "  return sp.expand(sp.simplify(x[0]*l0 + x[1]*l1))\n",
        "\n",
        "def DR(x, eta):\n",
        "  # l0 = a0*x[0] + c000*x[0]*x[0]*x[0] + 2*c001*x[0]*x[0]*x[1] + c011*x[0]*x[1]*x[1]\n",
        "  # l1 = a1*x[1] + c001*x[0]*x[0]*x[1] + 2*c011*x[0]*x[1]*x[1] + c111*x[1]*x[1]*x[1]\n",
        "  l0 = a0*eta[0] + 4*c001*x[0]*eta[0]*x[1]\n",
        "  l0 = l0 + 2*c001*x[0]*x[0]*eta[1]\n",
        "  l1 = 2*c001*x[0]*eta[0]*x[1]\n",
        "  l1 = l1 + a1*eta[1] + c001*x[0]*x[0]*eta[1]\n",
        "  return l0 + l1\n",
        "\n",
        "def retr(x, eta):\n",
        "  nrm = 1 + eta[0]*eta[0] + eta[1]*eta[1]\n",
        "  return (x + eta)/sp.sqrt(nrm)\n",
        "\n",
        "def DC(x, omg):\n",
        "  return x[0]*omg[0] + x[1]*omg[1]\n",
        "\n",
        "def SchurProj(x, omg):\n",
        "  lbd = R(x)\n",
        "  llx = Lx(x, lbd)\n",
        "\n",
        "  zeta = -llx.inv()*x\n",
        "  return omg - zeta /DC(x, zeta)*DC(x, omg)\n",
        "\n",
        "def NewtonInc(x):\n",
        "  lbd = R(x)\n",
        "  llx = Lx(x, lbd)\n",
        "  omg = -llx.inv()*L(x, lbd)\n",
        "  return SchurProj(x, omg)\n",
        "\n",
        "def ChebyshevInc(x, f):\n",
        "  nst = NewtonInc(x)\n",
        "  lbd = R(x)\n",
        "  llx = Lx(x, lbd)\n",
        "  dr = DR(x, nst)\n",
        "  G = Lxx(x, lbd, nst) +\\\n",
        "        -2*nst*dr + f*(llx*x)*(nst[0]*nst[0] + nst[1]*nst[1])\n",
        "  T = -1/2*llx.inv()*G\n",
        "  return nst + SchurProj(x, T)\n",
        "\n"
      ],
      "execution_count": 1,
      "outputs": []
    },
    {
      "cell_type": "markdown",
      "source": [
        "Some symbolic variables: - $xx$ is a point on the circle, $v$ is a vector in $R^2$\n",
        "* test the partial derivative $L_x$"
      ],
      "metadata": {
        "id": "ZmoUnbJLLql-"
      }
    },
    {
      "cell_type": "code",
      "metadata": {
        "colab": {
          "base_uri": "https://localhost:8080/",
          "height": 57
        },
        "id": "92yAks8WRZm9",
        "outputId": "f0003f22-fba0-4625-c6b0-5165180c1ca8"
      },
      "source": [
        "u, v0, v1, x0, x1, e = sp.symbols('u v0 v1 x0 x1 e')\n",
        "xx = sp.Matrix([[x0, x1]]).T\n",
        "v = sp.Matrix([[v0, v1]]).T\n",
        "ex2 = Lx(xx, e)*v\n",
        "ex1 = sp.diff(sp.expand(L(xx+u*v, e)), u).subs(u, 0)\n",
        "display(sp.expand(ex1-ex2))\n",
        "# display(ex2)\n"
      ],
      "execution_count": 2,
      "outputs": [
        {
          "output_type": "display_data",
          "data": {
            "text/plain": [
              "Matrix([\n",
              "[0],\n",
              "[0]])"
            ],
            "text/latex": "$\\displaystyle \\left[\\begin{matrix}0\\\\0\\end{matrix}\\right]$"
          },
          "metadata": {}
        }
      ]
    },
    {
      "cell_type": "markdown",
      "source": [
        "Test the Hessian $L_{xx}$. Test the Schur projection gives us a point on the tangent space"
      ],
      "metadata": {
        "id": "n5vzFFKtMC9H"
      }
    },
    {
      "cell_type": "code",
      "metadata": {
        "colab": {
          "base_uri": "https://localhost:8080/",
          "height": 139
        },
        "id": "KoAtcTf1RpLN",
        "outputId": "e8b07f00-dcb9-41b4-aacd-62d4d294e8bd"
      },
      "source": [
        "display(sp.expand(xx.T*L(xx, e).subs(e,0))[0] - R(xx))\n",
        "\n",
        "ex3 = (L(xx+u*v, e) -L(xx, e) - Lx(xx, e)*v*u)/u/u\n",
        "ex3 = sp.expand(2*sp.simplify(ex3)).subs(u, 0)\n",
        "ex3 = sp.simplify((Lx(xx +u*v, e) - Lx(xx, e))/u)\n",
        "display(sp.expand(sp.expand(ex3*v).subs(u, 0) - Lxx(xx, e, v)))\n",
        "display(sp.simplify(ex2 -ex1))\n",
        "# SchurProj(x, v).subs(t, 2)\n",
        "t = sp.symbols('t')\n",
        "x = sp.Matrix([[(sp.Integer(4)-t*t)/(sp.Integer(4)+t*t), sp.Integer(4)*t/(sp.Integer(4)+t*t)]]).T\n",
        "\n",
        "x2 = x.subs(t, 3)\n",
        "exp1 = SchurProj(xx, v)\n",
        "\n",
        "exp2 = exp1.subs(x0, x2[0]).subs(x1, x2[1])\n",
        "display(sp.simplify(x2[0]*exp2[0] + x2[1]*exp2[1]))\n",
        "\n",
        "\n",
        "\n",
        "# ex3 = sp.expand(sp.simplify(ex2))\n",
        "# ex4 = sp.expand(sp.simplify(sp.diff(L(xx+u*v, e), u)))\n",
        "# ex3 - ex4"
      ],
      "execution_count": 3,
      "outputs": [
        {
          "output_type": "display_data",
          "data": {
            "text/plain": [
              "0"
            ],
            "text/latex": "$\\displaystyle 0$"
          },
          "metadata": {}
        },
        {
          "output_type": "display_data",
          "data": {
            "text/plain": [
              "Matrix([\n",
              "[0],\n",
              "[0]])"
            ],
            "text/latex": "$\\displaystyle \\left[\\begin{matrix}0\\\\0\\end{matrix}\\right]$"
          },
          "metadata": {}
        },
        {
          "output_type": "display_data",
          "data": {
            "text/plain": [
              "Matrix([\n",
              "[0],\n",
              "[0]])"
            ],
            "text/latex": "$\\displaystyle \\left[\\begin{matrix}0\\\\0\\end{matrix}\\right]$"
          },
          "metadata": {}
        },
        {
          "output_type": "display_data",
          "data": {
            "text/plain": [
              "0"
            ],
            "text/latex": "$\\displaystyle 0$"
          },
          "metadata": {}
        }
      ]
    },
    {
      "cell_type": "markdown",
      "source": [
        "Test derivative of the Rayleigh quotient"
      ],
      "metadata": {
        "id": "Klwu0G-XMd2q"
      }
    },
    {
      "cell_type": "code",
      "metadata": {
        "colab": {
          "base_uri": "https://localhost:8080/",
          "height": 37
        },
        "id": "v5iiWSyLR258",
        "outputId": "f846fdf5-fcce-4956-ff92-93c86c17673b"
      },
      "source": [
        "display(sp.simplify((R(xx + u*v) - R(xx))/u).subs(u, 0) - DR(xx, v))\n"
      ],
      "execution_count": 4,
      "outputs": [
        {
          "output_type": "display_data",
          "data": {
            "text/plain": [
              "0"
            ],
            "text/latex": "$\\displaystyle 0$"
          },
          "metadata": {}
        }
      ]
    },
    {
      "cell_type": "markdown",
      "source": [
        "Show some expressions for $L_x$ and $L_{xx}$"
      ],
      "metadata": {
        "id": "33X_w9hXMqbv"
      }
    },
    {
      "cell_type": "code",
      "metadata": {
        "colab": {
          "base_uri": "https://localhost:8080/",
          "height": 98
        },
        "id": "IVanEdrRI7o2",
        "outputId": "ddc3b4b3-1450-4d73-f93b-b062ad465896"
      },
      "source": [
        "\n",
        "display(Lx(xx, u))\n",
        "display(Lxx(xx, u, v))"
      ],
      "execution_count": 5,
      "outputs": [
        {
          "output_type": "display_data",
          "data": {
            "text/plain": [
              "Matrix([\n",
              "[-u + 2*x1, 2*x0],\n",
              "[     2*x0,   -u]])"
            ],
            "text/latex": "$\\displaystyle \\left[\\begin{matrix}- u + 2 x_{1} & 2 x_{0}\\\\2 x_{0} & - u\\end{matrix}\\right]$"
          },
          "metadata": {}
        },
        {
          "output_type": "display_data",
          "data": {
            "text/plain": [
              "Matrix([\n",
              "[4*v0*v1],\n",
              "[2*v0**2]])"
            ],
            "text/latex": "$\\displaystyle \\left[\\begin{matrix}4 v_{0} v_{1}\\\\2 v_{0}^{2}\\end{matrix}\\right]$"
          },
          "metadata": {}
        }
      ]
    },
    {
      "cell_type": "markdown",
      "source": [
        "Evaluate the Newton increment on\n",
        "$$x = \\begin{bmatrix}\\frac{4-t^2}{4+t^2}\\\\\n",
        " \\frac{4t}{4+t^2}\\end{bmatrix}$$\n",
        "$t$ is the symbolic variable"
      ],
      "metadata": {
        "id": "LNFPVEtuNrRh"
      }
    },
    {
      "cell_type": "code",
      "metadata": {
        "id": "ytIQkXbUR4zd"
      },
      "source": [
        "t = sp.symbols('t')\n",
        "x = sp.Matrix([[(sp.Integer(4)-t*t)/(sp.Integer(4)+t*t), sp.Integer(4)*t/(sp.Integer(4)+t*t)]]).T\n",
        "\n",
        "nt = NewtonInc(xx)\n",
        "nt = sp.simplify(nt)\n",
        "ntx = nt.subs(x0, x[0]).subs(x1, x[1])\n",
        "ntx = sp.simplify(ntx)"
      ],
      "execution_count": 6,
      "outputs": []
    },
    {
      "cell_type": "code",
      "metadata": {
        "colab": {
          "base_uri": "https://localhost:8080/",
          "height": 143
        },
        "id": "u0GYS8_dHPie",
        "outputId": "694ec5ff-f942-4c75-fe64-5c7f4088e7c8"
      },
      "source": [
        "display(nt)\n",
        "display(ntx)"
      ],
      "execution_count": 7,
      "outputs": [
        {
          "output_type": "display_data",
          "data": {
            "text/plain": [
              "Matrix([\n",
              "[x1*(-x0**3 + 2*x0*x1**2 + x0 + 5*x1)/(3*x0**4*x1 + 5*x0**3 + 3*x0**2*x1**3 + 3*x0**2*x1 + 5*x0*x1**2 - 3*x1**3)],\n",
              "[ x0*(x0**3 - 2*x0*x1**2 - x0 - 5*x1)/(3*x0**4*x1 + 5*x0**3 + 3*x0**2*x1**3 + 3*x0**2*x1 + 5*x0*x1**2 - 3*x1**3)]])"
            ],
            "text/latex": "$\\displaystyle \\left[\\begin{matrix}\\frac{x_{1} \\left(- x_{0}^{3} + 2 x_{0} x_{1}^{2} + x_{0} + 5 x_{1}\\right)}{3 x_{0}^{4} x_{1} + 5 x_{0}^{3} + 3 x_{0}^{2} x_{1}^{3} + 3 x_{0}^{2} x_{1} + 5 x_{0} x_{1}^{2} - 3 x_{1}^{3}}\\\\\\frac{x_{0} \\left(x_{0}^{3} - 2 x_{0} x_{1}^{2} - x_{0} - 5 x_{1}\\right)}{3 x_{0}^{4} x_{1} + 5 x_{0}^{3} + 3 x_{0}^{2} x_{1}^{3} + 3 x_{0}^{2} x_{1} + 5 x_{0} x_{1}^{2} - 3 x_{1}^{3}}\\end{matrix}\\right]$"
          },
          "metadata": {}
        },
        {
          "output_type": "display_data",
          "data": {
            "text/plain": [
              "Matrix([\n",
              "[               t**2*(-80*t**4 + 192*t**3 - 640*t**2 - 768*t - 1280)/(5*t**8 - 24*t**7 + 40*t**6 + 288*t**5 + 1152*t**3 - 640*t**2 - 1536*t - 1280)],\n",
              "[4*t*(-5*t**6 + 12*t**5 - 20*t**4 - 96*t**3 + 80*t**2 + 192*t + 320)/(5*t**8 - 24*t**7 + 40*t**6 + 288*t**5 + 1152*t**3 - 640*t**2 - 1536*t - 1280)]])"
            ],
            "text/latex": "$\\displaystyle \\left[\\begin{matrix}\\frac{t^{2} \\left(- 80 t^{4} + 192 t^{3} - 640 t^{2} - 768 t - 1280\\right)}{5 t^{8} - 24 t^{7} + 40 t^{6} + 288 t^{5} + 1152 t^{3} - 640 t^{2} - 1536 t - 1280}\\\\\\frac{4 t \\left(- 5 t^{6} + 12 t^{5} - 20 t^{4} - 96 t^{3} + 80 t^{2} + 192 t + 320\\right)}{5 t^{8} - 24 t^{7} + 40 t^{6} + 288 t^{5} + 1152 t^{3} - 640 t^{2} - 1536 t - 1280}\\end{matrix}\\right]$"
          },
          "metadata": {}
        }
      ]
    },
    {
      "cell_type": "markdown",
      "source": [
        "Show $(x+\\eta)/|x+\\eta| - v_1$ is of order $t^2$, where $v_1=\\begin{bmatrix}1\\\\0\\end{bmatrix}$ and $\\eta$ is the Newton increment"
      ],
      "metadata": {
        "id": "SIpUMmbOepmZ"
      }
    },
    {
      "cell_type": "code",
      "metadata": {
        "colab": {
          "base_uri": "https://localhost:8080/",
          "height": 172
        },
        "id": "fz7SjP8VO0bh",
        "outputId": "8d787476-67a3-4f8e-932d-25b857f45d6e"
      },
      "source": [
        "v1 = sp.Matrix([[sp.Integer(1), sp.Integer(0)]]).T\n",
        "\n",
        "Nadd = sp.simplify(x+ntx)\n",
        "display(Nadd)\n",
        "NewtonStep = Nadd/sp.sqrt(Nadd.dot(Nadd))\n",
        "NewtonTaylor = sp.Matrix([sp.series(NewtonStep[0], t, 0), sp.series(NewtonStep[1], t, 0)])\n",
        "display(NewtonTaylor)\n",
        "display(NewtonTaylor -v1)\n"
      ],
      "execution_count": 8,
      "outputs": [
        {
          "output_type": "display_data",
          "data": {
            "text/plain": [
              "Matrix([\n",
              "[(-5*t**8 + 24*t**7 - 80*t**6 - 288*t**5 - 480*t**4 + 1152*t**3 - 1280*t**2 - 1536*t - 1280)/(5*t**8 - 24*t**7 + 40*t**6 + 288*t**5 + 1152*t**3 - 640*t**2 - 1536*t - 1280)],\n",
              "[                                                             48*t**2*(-t**4 + 24*t**2 - 16)/(5*t**8 - 24*t**7 + 40*t**6 + 288*t**5 + 1152*t**3 - 640*t**2 - 1536*t - 1280)]])"
            ],
            "text/latex": "$\\displaystyle \\left[\\begin{matrix}\\frac{- 5 t^{8} + 24 t^{7} - 80 t^{6} - 288 t^{5} - 480 t^{4} + 1152 t^{3} - 1280 t^{2} - 1536 t - 1280}{5 t^{8} - 24 t^{7} + 40 t^{6} + 288 t^{5} + 1152 t^{3} - 640 t^{2} - 1536 t - 1280}\\\\\\frac{48 t^{2} \\left(- t^{4} + 24 t^{2} - 16\\right)}{5 t^{8} - 24 t^{7} + 40 t^{6} + 288 t^{5} + 1152 t^{3} - 640 t^{2} - 1536 t - 1280}\\end{matrix}\\right]$"
          },
          "metadata": {}
        },
        {
          "output_type": "display_data",
          "data": {
            "text/plain": [
              "Matrix([\n",
              "[                          1 - 9*t**4/50 + 54*t**5/125 + O(t**6)],\n",
              "[3*t**2/5 - 18*t**3/25 - 159*t**4/250 + 2529*t**5/1250 + O(t**6)]])"
            ],
            "text/latex": "$\\displaystyle \\left[\\begin{matrix}1 - \\frac{9 t^{4}}{50} + \\frac{54 t^{5}}{125} + O\\left(t^{6}\\right)\\\\\\frac{3 t^{2}}{5} - \\frac{18 t^{3}}{25} - \\frac{159 t^{4}}{250} + \\frac{2529 t^{5}}{1250} + O\\left(t^{6}\\right)\\end{matrix}\\right]$"
          },
          "metadata": {}
        },
        {
          "output_type": "display_data",
          "data": {
            "text/plain": [
              "Matrix([\n",
              "[                             -9*t**4/50 + 54*t**5/125 + O(t**6)],\n",
              "[3*t**2/5 - 18*t**3/25 - 159*t**4/250 + 2529*t**5/1250 + O(t**6)]])"
            ],
            "text/latex": "$\\displaystyle \\left[\\begin{matrix}- \\frac{9 t^{4}}{50} + \\frac{54 t^{5}}{125} + O\\left(t^{6}\\right)\\\\\\frac{3 t^{2}}{5} - \\frac{18 t^{3}}{25} - \\frac{159 t^{4}}{250} + \\frac{2529 t^{5}}{1250} + O\\left(t^{6}\\right)\\end{matrix}\\right]$"
          },
          "metadata": {}
        }
      ]
    },
    {
      "cell_type": "markdown",
      "metadata": {
        "id": "brT9dP-aOzml"
      },
      "source": [
        "Now do the Chebyshev step"
      ]
    },
    {
      "cell_type": "code",
      "metadata": {
        "id": "W4hGFWUfR6_8"
      },
      "source": [
        "lbdx = R(x)\n",
        "llxx = sp.simplify(Lx(x, lbdx))\n",
        "llxxinv = sp.simplify(llxx.inv())\n",
        "# llxinv = llxx.inv()\n"
      ],
      "execution_count": 9,
      "outputs": []
    },
    {
      "cell_type": "code",
      "metadata": {
        "id": "Zz8MOEdCR-gE",
        "colab": {
          "base_uri": "https://localhost:8080/",
          "height": 68
        },
        "outputId": "152c8a66-db27-4860-acde-2d5cb67f3747"
      },
      "source": [
        "retractHessTerm = sp.simplify(llxx*x)\n",
        "retractHessTaylor = sp.Matrix([sp.series(retractHessTerm[0], t, 0),\n",
        "  sp.series(retractHessTerm[1], t, 0)])\n",
        "retractHessTaylor"
      ],
      "execution_count": 10,
      "outputs": [
        {
          "output_type": "execute_result",
          "data": {
            "text/plain": [
              "Matrix([\n",
              "[-5 + 2*t + 5*t**2 + 3*t**3/2 - 5*t**4/2 - 25*t**5/8 + O(t**6)],\n",
              "[ 2 - 5*t - 4*t**2 + 15*t**3/4 + 5*t**4 - 25*t**5/16 + O(t**6)]])"
            ],
            "text/latex": "$\\displaystyle \\left[\\begin{matrix}-5 + 2 t + 5 t^{2} + \\frac{3 t^{3}}{2} - \\frac{5 t^{4}}{2} - \\frac{25 t^{5}}{8} + O\\left(t^{6}\\right)\\\\2 - 5 t - 4 t^{2} + \\frac{15 t^{3}}{4} + 5 t^{4} - \\frac{25 t^{5}}{16} + O\\left(t^{6}\\right)\\end{matrix}\\right]$"
          },
          "metadata": {},
          "execution_count": 10
        }
      ]
    },
    {
      "cell_type": "code",
      "metadata": {
        "id": "XpTV6kwDUAoN"
      },
      "source": [
        "f = sp.symbols('f')\n",
        "ntx = sp.simplify(ntx)"
      ],
      "execution_count": 11,
      "outputs": []
    },
    {
      "cell_type": "code",
      "metadata": {
        "colab": {
          "base_uri": "https://localhost:8080/",
          "height": 98
        },
        "id": "OhJDDqrmWYLh",
        "outputId": "244607b6-eb1c-47cf-9ec5-b53e370ddf90"
      },
      "source": [
        "lbdt = sp.simplify(R(x))\n",
        "llx = sp.simplify(Lx(x, lbdt))\n",
        "jr = sp.simplify(DR(x, ntx))\n",
        "\n",
        "G = Lxx(x, lbdt, ntx) +\\\n",
        "      - 2*ntx*jr + f*(llx*x)*(ntx[0]*ntx[0] + ntx[1]*ntx[1])\n",
        "G = sp.simplify(G)\n",
        "\n",
        "T = -sp.Integer(1)/sp.Integer(2)*sp.simplify(llx.inv()*G)\n",
        "ct = sp.simplify(ntx + SchurProj(x, T))\n",
        "ct\n",
        "\n",
        "\n"
      ],
      "execution_count": 12,
      "outputs": [
        {
          "output_type": "execute_result",
          "data": {
            "text/plain": [
              "Matrix([\n",
              "[                                          t**2*(-1600*f*t**15 + 7680*f*t**14 + 35584*f*t**13 - 307200*f*t**12 + 1170432*f*t**11 - 122880*f*t**10 - 3067904*f*t**9 + 9830400*f*t**8 + 12271616*f*t**7 - 1966080*f*t**6 - 74907648*f*t**5 - 78643200*f*t**4 - 36438016*f*t**3 + 31457280*f*t**2 + 26214400*f*t - 2000*t**16 + 27200*t**15 - 107520*t**14 - 325376*t**13 + 4019200*t**12 - 13888512*t**11 + 6963200*t**10 + 43405312*t**9 - 85647360*t**8 - 173621248*t**7 + 111411200*t**6 + 888864768*t**5 + 1028915200*t**4 + 333185024*t**3 - 440401920*t**2 - 445644800*t - 131072000)/(125*t**20 - 1800*t**19 + 10640*t**18 - 6624*t**17 - 201360*t**16 + 896256*t**15 + 212480*t**14 - 7934976*t**13 + 13928960*t**12 + 25362432*t**11 + 101449728*t**9 - 222863360*t**8 - 507838464*t**7 - 54394880*t**6 + 917766144*t**5 + 824770560*t**4 - 108527616*t**3 - 697303040*t**2 - 471859200*t - 131072000)],\n",
              "[4*t*(-100*f*t**17 + 480*f*t**16 + 2624*f*t**15 - 21120*f*t**14 + 64256*f*t**13 + 69120*f*t**12 - 484352*f*t**11 + 645120*f*t**10 + 1533952*f*t**9 - 2580480*f*t**8 - 7749632*f*t**7 - 4423680*f*t**6 + 16449536*f*t**5 + 21626880*f*t**4 + 10747904*f*t**3 - 7864320*f*t**2 - 6553600*f*t - 125*t**18 + 1700*t**17 - 6220*t**16 - 27136*t**15 + 278080*t**14 - 786688*t**13 - 569600*t**12 + 6184960*t**11 - 7093760*t**10 - 21702656*t**9 + 28375040*t**8 + 98959360*t**7 + 36454400*t**6 - 201392128*t**5 - 284753920*t**4 - 111149056*t**3 + 101908480*t**2 + 111411200*t + 32768000)/(125*t**20 - 1800*t**19 + 10640*t**18 - 6624*t**17 - 201360*t**16 + 896256*t**15 + 212480*t**14 - 7934976*t**13 + 13928960*t**12 + 25362432*t**11 + 101449728*t**9 - 222863360*t**8 - 507838464*t**7 - 54394880*t**6 + 917766144*t**5 + 824770560*t**4 - 108527616*t**3 - 697303040*t**2 - 471859200*t - 131072000)]])"
            ],
            "text/latex": "$\\displaystyle \\left[\\begin{matrix}\\frac{t^{2} \\left(- 1600 f t^{15} + 7680 f t^{14} + 35584 f t^{13} - 307200 f t^{12} + 1170432 f t^{11} - 122880 f t^{10} - 3067904 f t^{9} + 9830400 f t^{8} + 12271616 f t^{7} - 1966080 f t^{6} - 74907648 f t^{5} - 78643200 f t^{4} - 36438016 f t^{3} + 31457280 f t^{2} + 26214400 f t - 2000 t^{16} + 27200 t^{15} - 107520 t^{14} - 325376 t^{13} + 4019200 t^{12} - 13888512 t^{11} + 6963200 t^{10} + 43405312 t^{9} - 85647360 t^{8} - 173621248 t^{7} + 111411200 t^{6} + 888864768 t^{5} + 1028915200 t^{4} + 333185024 t^{3} - 440401920 t^{2} - 445644800 t - 131072000\\right)}{125 t^{20} - 1800 t^{19} + 10640 t^{18} - 6624 t^{17} - 201360 t^{16} + 896256 t^{15} + 212480 t^{14} - 7934976 t^{13} + 13928960 t^{12} + 25362432 t^{11} + 101449728 t^{9} - 222863360 t^{8} - 507838464 t^{7} - 54394880 t^{6} + 917766144 t^{5} + 824770560 t^{4} - 108527616 t^{3} - 697303040 t^{2} - 471859200 t - 131072000}\\\\\\frac{4 t \\left(- 100 f t^{17} + 480 f t^{16} + 2624 f t^{15} - 21120 f t^{14} + 64256 f t^{13} + 69120 f t^{12} - 484352 f t^{11} + 645120 f t^{10} + 1533952 f t^{9} - 2580480 f t^{8} - 7749632 f t^{7} - 4423680 f t^{6} + 16449536 f t^{5} + 21626880 f t^{4} + 10747904 f t^{3} - 7864320 f t^{2} - 6553600 f t - 125 t^{18} + 1700 t^{17} - 6220 t^{16} - 27136 t^{15} + 278080 t^{14} - 786688 t^{13} - 569600 t^{12} + 6184960 t^{11} - 7093760 t^{10} - 21702656 t^{9} + 28375040 t^{8} + 98959360 t^{7} + 36454400 t^{6} - 201392128 t^{5} - 284753920 t^{4} - 111149056 t^{3} + 101908480 t^{2} + 111411200 t + 32768000\\right)}{125 t^{20} - 1800 t^{19} + 10640 t^{18} - 6624 t^{17} - 201360 t^{16} + 896256 t^{15} + 212480 t^{14} - 7934976 t^{13} + 13928960 t^{12} + 25362432 t^{11} + 101449728 t^{9} - 222863360 t^{8} - 507838464 t^{7} - 54394880 t^{6} + 917766144 t^{5} + 824770560 t^{4} - 108527616 t^{3} - 697303040 t^{2} - 471859200 t - 131072000}\\end{matrix}\\right]$"
          },
          "metadata": {},
          "execution_count": 12
        }
      ]
    },
    {
      "cell_type": "markdown",
      "source": [
        "# Power series expansion of ct"
      ],
      "metadata": {
        "id": "CCiAQVmRtqds"
      }
    },
    {
      "cell_type": "code",
      "source": [
        "xc = x + ct\n",
        "ctnew = xc / sp.sqrt(xc.dot(xc))"
      ],
      "metadata": {
        "id": "72jVmO0Qtu3c"
      },
      "execution_count": 13,
      "outputs": []
    },
    {
      "cell_type": "code",
      "source": [
        "taylor = sp.Matrix([sp.series(xc[0], t, 0), sp.series(xc[1], t, 0)])"
      ],
      "metadata": {
        "id": "EWMOA8i4u9li"
      },
      "execution_count": 14,
      "outputs": []
    },
    {
      "cell_type": "code",
      "source": [
        "xChev = taylor / sp.sqrt(taylor.dot(taylor))\n",
        "TaylorChev = sp.Matrix([sp.series(xChev[0], t, 0), sp.series(xChev[1], t, 0)])\n",
        "TaylorChev\n"
      ],
      "metadata": {
        "colab": {
          "base_uri": "https://localhost:8080/",
          "height": 88
        },
        "id": "U0OAnyDOvh6p",
        "outputId": "825c6ea0-a40f-42f6-e5ce-e7efc54f5e24"
      },
      "execution_count": 15,
      "outputs": [
        {
          "output_type": "execute_result",
          "data": {
            "text/plain": [
              "Matrix([\n",
              "[                                            1 + t**4*(-f**2/50 - f/25 - 1/50) + t**5*(12*f**2/125 - 19*f/125 - 31/125) + O(t**6)],\n",
              "[t**2*(f/5 + 1/5) + t**3*(31/25 - 12*f/25) + t**4*(59*f/250 - 577/250) + t**5*(f*(f/5 + 1/5)/5 + 499*f/625 + 4341/2500) + O(t**6)]])"
            ],
            "text/latex": "$\\displaystyle \\left[\\begin{matrix}1 + t^{4} \\left(- \\frac{f^{2}}{50} - \\frac{f}{25} - \\frac{1}{50}\\right) + t^{5} \\left(\\frac{12 f^{2}}{125} - \\frac{19 f}{125} - \\frac{31}{125}\\right) + O\\left(t^{6}\\right)\\\\t^{2} \\left(\\frac{f}{5} + \\frac{1}{5}\\right) + t^{3} \\left(\\frac{31}{25} - \\frac{12 f}{25}\\right) + t^{4} \\left(\\frac{59 f}{250} - \\frac{577}{250}\\right) + t^{5} \\left(\\frac{f \\left(\\frac{f}{5} + \\frac{1}{5}\\right)}{5} + \\frac{499 f}{625} + \\frac{4341}{2500}\\right) + O\\left(t^{6}\\right)\\end{matrix}\\right]$"
          },
          "metadata": {},
          "execution_count": 15
        }
      ]
    },
    {
      "cell_type": "code",
      "source": [
        "from sympy import print_latex\n",
        "print_latex(ntx)\n",
        "print_latex(NewtonTaylor)\n",
        "print_latex(retractHessTaylor)"
      ],
      "metadata": {
        "colab": {
          "base_uri": "https://localhost:8080/"
        },
        "id": "UBKqlIP-wsNP",
        "outputId": "1993ad12-5aff-4181-db2d-fed621da1500"
      },
      "execution_count": 16,
      "outputs": [
        {
          "output_type": "stream",
          "name": "stdout",
          "text": [
            "\\left[\\begin{matrix}\\frac{t^{2} \\left(- 80 t^{4} + 192 t^{3} - 640 t^{2} - 768 t - 1280\\right)}{5 t^{8} - 24 t^{7} + 40 t^{6} + 288 t^{5} + 1152 t^{3} - 640 t^{2} - 1536 t - 1280}\\\\\\frac{4 t \\left(- 5 t^{6} + 12 t^{5} - 20 t^{4} - 96 t^{3} + 80 t^{2} + 192 t + 320\\right)}{5 t^{8} - 24 t^{7} + 40 t^{6} + 288 t^{5} + 1152 t^{3} - 640 t^{2} - 1536 t - 1280}\\end{matrix}\\right]\n",
            "\\left[\\begin{matrix}1 - \\frac{9 t^{4}}{50} + \\frac{54 t^{5}}{125} + O\\left(t^{6}\\right)\\\\\\frac{3 t^{2}}{5} - \\frac{18 t^{3}}{25} - \\frac{159 t^{4}}{250} + \\frac{2529 t^{5}}{1250} + O\\left(t^{6}\\right)\\end{matrix}\\right]\n",
            "\\left[\\begin{matrix}-5 + 2 t + 5 t^{2} + \\frac{3 t^{3}}{2} - \\frac{5 t^{4}}{2} - \\frac{25 t^{5}}{8} + O\\left(t^{6}\\right)\\\\2 - 5 t - 4 t^{2} + \\frac{15 t^{3}}{4} + 5 t^{4} - \\frac{25 t^{5}}{16} + O\\left(t^{6}\\right)\\end{matrix}\\right]\n"
          ]
        }
      ]
    },
    {
      "cell_type": "code",
      "source": [
        "def makeTaylor(vec):\n",
        "  return sp.Matrix([sp.series(vec[0], t, 0), sp.series(vec[1], t, 0)])\n",
        "makeTaylor(ct)"
      ],
      "metadata": {
        "colab": {
          "base_uri": "https://localhost:8080/",
          "height": 78
        },
        "id": "TsNfaa1r3V6S",
        "outputId": "0bbe4e0a-bc15-4297-c0cf-e728788e29f7"
      },
      "execution_count": 17,
      "outputs": [
        {
          "output_type": "execute_result",
          "data": {
            "text/plain": [
              "Matrix([\n",
              "[                              t**2 + t**3*(-f/5 - 1/5) + t**4*(12*f/25 - 31/25) + t**5*(1079/500 - 193*f/500) + O(t**6)],\n",
              "[-t + t**2*(f/5 + 1/5) + t**3*(149/100 - 12*f/25) + t**4*(42*f/125 - 276/125) + t**5*(324*f/625 + 22539/10000) + O(t**6)]])"
            ],
            "text/latex": "$\\displaystyle \\left[\\begin{matrix}t^{2} + t^{3} \\left(- \\frac{f}{5} - \\frac{1}{5}\\right) + t^{4} \\left(\\frac{12 f}{25} - \\frac{31}{25}\\right) + t^{5} \\left(\\frac{1079}{500} - \\frac{193 f}{500}\\right) + O\\left(t^{6}\\right)\\\\- t + t^{2} \\left(\\frac{f}{5} + \\frac{1}{5}\\right) + t^{3} \\left(\\frac{149}{100} - \\frac{12 f}{25}\\right) + t^{4} \\left(\\frac{42 f}{125} - \\frac{276}{125}\\right) + t^{5} \\left(\\frac{324 f}{625} + \\frac{22539}{10000}\\right) + O\\left(t^{6}\\right)\\end{matrix}\\right]$"
          },
          "metadata": {},
          "execution_count": 17
        }
      ]
    },
    {
      "cell_type": "code",
      "source": [
        "print_latex(makeTaylor(ct))\n",
        "print_latex(TaylorChev)"
      ],
      "metadata": {
        "colab": {
          "base_uri": "https://localhost:8080/"
        },
        "id": "CP2FCGCF4bKY",
        "outputId": "f5da9c1a-91dc-40bb-c471-d2d3a0094aed"
      },
      "execution_count": 18,
      "outputs": [
        {
          "output_type": "stream",
          "name": "stdout",
          "text": [
            "\\left[\\begin{matrix}t^{2} + t^{3} \\left(- \\frac{f}{5} - \\frac{1}{5}\\right) + t^{4} \\left(\\frac{12 f}{25} - \\frac{31}{25}\\right) + t^{5} \\left(\\frac{1079}{500} - \\frac{193 f}{500}\\right) + O\\left(t^{6}\\right)\\\\- t + t^{2} \\left(\\frac{f}{5} + \\frac{1}{5}\\right) + t^{3} \\left(\\frac{149}{100} - \\frac{12 f}{25}\\right) + t^{4} \\left(\\frac{42 f}{125} - \\frac{276}{125}\\right) + t^{5} \\left(\\frac{324 f}{625} + \\frac{22539}{10000}\\right) + O\\left(t^{6}\\right)\\end{matrix}\\right]\n",
            "\\left[\\begin{matrix}1 + t^{4} \\left(- \\frac{f^{2}}{50} - \\frac{f}{25} - \\frac{1}{50}\\right) + t^{5} \\left(\\frac{12 f^{2}}{125} - \\frac{19 f}{125} - \\frac{31}{125}\\right) + O\\left(t^{6}\\right)\\\\t^{2} \\left(\\frac{f}{5} + \\frac{1}{5}\\right) + t^{3} \\left(\\frac{31}{25} - \\frac{12 f}{25}\\right) + t^{4} \\left(\\frac{59 f}{250} - \\frac{577}{250}\\right) + t^{5} \\left(\\frac{f \\left(\\frac{f}{5} + \\frac{1}{5}\\right)}{5} + \\frac{499 f}{625} + \\frac{4341}{2500}\\right) + O\\left(t^{6}\\right)\\end{matrix}\\right]\n"
          ]
        }
      ]
    }
  ]
}