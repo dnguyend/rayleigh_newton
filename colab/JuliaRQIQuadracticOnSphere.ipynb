{
  "nbformat": 4,
  "nbformat_minor": 0,
  "metadata": {
    "colab": {
      "provenance": [],
      "include_colab_link": true
    },
    "kernelspec": {
      "display_name": "Julia",
      "language": "julia",
      "name": "julia"
    },
    "language_info": {
      "file_extension": ".jl",
      "mimetype": "application/julia",
      "name": "julia"
    },
    "gpuClass": "standard"
  },
  "cells": [
    {
      "cell_type": "markdown",
      "metadata": {
        "id": "view-in-github",
        "colab_type": "text"
      },
      "source": [
        "<a href=\"https://colab.research.google.com/github/dnguyend/rayleigh_newton/blob/master/colab/JuliaRQIQuadracticOnSphere.ipynb\" target=\"_parent\"><img src=\"https://colab.research.google.com/assets/colab-badge.svg\" alt=\"Open In Colab\"/></a>"
      ]
    },
    {
      "cell_type": "markdown",
      "metadata": {
        "id": "tQ1r1bbb0yBv"
      },
      "source": [
        "# <img src=\"https://github.com/JuliaLang/julia-logo-graphics/raw/master/images/julia-logo-color.png\" height=\"100\" /> \n",
        "Colab Notebook for Generalized Rayleigh Quotient Iteration and Rayleigh Chebyshev Iteration to find solutions of the equation\n",
        "$\\newcommand{\\R}{\\mathbb{R}}$\n",
        "$$ Ax -\\lambda x -b = 0\\\\\n",
        "x^Tx = 1\n",
        "$$\n",
        "for a matrix $A\\in \\R^{n\\times n}, b\\in\\R^n, \\lambda\\in \\R$, not necessarily symmetric.\n",
        "* When $A$ is symmetric, it gives us the set of critical points of the quadratic function $\\frac{1}{2}x^TAx - bx$.\n",
        "\n",
        "#  Summary: Confirming RQI has quadratic, Rayleigh-Chebyshev has cubic convergence order.\n",
        "* An example: for $n=10, A\\in \\R^{n\\times n}, b\\in \\R^n$, at the warm up point with residual error 4.615e-03, the sequence of residual error for Rayleight and Rayleigh Chebyshev are:\n",
        "\n",
        "\n",
        "|Iteration | Rayleigh | Rayleigh Chebyshev|\n",
        "|---|---|---|\n",
        "|1|6.986e-06|6.986e-06|\n",
        "|2|2.368e-11|6.511e-15|\n",
        "|3|3.500e-22|5.208e-42|\n",
        "|4|9.982e-44| |\n",
        "\n",
        "* Use the library Arblib for higher numerical precision to demonstrate cubic convergence.\n",
        "\n",
        "# You can view the results as-is. If you want to run the code follow the instructions below\n",
        "## Instructions\n",
        "1. Work on a copy of this notebook: _File_ > _Save a copy in Drive_ (you will need a Google account). Alternatively, you can download the notebook using _File_ > _Download .ipynb_, then upload it to [Colab](https://colab.research.google.com/).\n",
        "2. If you need a GPU: _Runtime_ > _Change runtime type_ > _Harware accelerator_ = _GPU_.\n",
        "3. Execute the following cell (click on it and press Ctrl+Enter) to install Julia, IJulia and other packages (if needed, update `JULIA_VERSION` and the other parameters). **This takes a couple of minutes.**\n",
        "4. **Reload this page (press Ctrl+R, or ⌘+R, or the F5 key) and continue to the next section.**\n",
        "\n",
        "_Notes_:\n",
        "* If your Colab Runtime gets reset (e.g., due to inactivity), repeat steps 2, 3 and 4.\n",
        "* After installation, if you want to change the Julia version or activate/deactivate the GPU, you will need to reset the Runtime: _Runtime_ > _Factory reset runtime_ and repeat steps 3 and 4."
      ]
    },
    {
      "cell_type": "code",
      "metadata": {
        "id": "GIeFXS0F0zww",
        "colab": {
          "base_uri": "https://localhost:8080/"
        },
        "outputId": "e9d1fd99-06fa-4104-e33c-a9d4f5f38d4e"
      },
      "source": [
        "%%shell\n",
        "set -e\n",
        "\n",
        "#---------------------------------------------------#\n",
        "JULIA_VERSION=\"1.8.2\" # any version ≥ 0.7.0\n",
        "JULIA_PACKAGES=\"IJulia BenchmarkTools\"\n",
        "JULIA_PACKAGES_IF_GPU=\"CUDA\" # or CuArrays for older Julia versions\n",
        "JULIA_NUM_THREADS=2\n",
        "#---------------------------------------------------#\n",
        "\n",
        "if [ -z `which julia` ]; then\n",
        "  # Install Julia\n",
        "  JULIA_VER=`cut -d '.' -f -2 <<< \"$JULIA_VERSION\"`\n",
        "  echo \"Installing Julia $JULIA_VERSION on the current Colab Runtime...\"\n",
        "  BASE_URL=\"https://julialang-s3.julialang.org/bin/linux/x64\"\n",
        "  URL=\"$BASE_URL/$JULIA_VER/julia-$JULIA_VERSION-linux-x86_64.tar.gz\"\n",
        "  wget -nv $URL -O /tmp/julia.tar.gz # -nv means \"not verbose\"\n",
        "  tar -x -f /tmp/julia.tar.gz -C /usr/local --strip-components 1\n",
        "  rm /tmp/julia.tar.gz\n",
        "\n",
        "  # Install Packages\n",
        "  nvidia-smi -L &> /dev/null && export GPU=1 || export GPU=0\n",
        "  if [ $GPU -eq 1 ]; then\n",
        "    JULIA_PACKAGES=\"$JULIA_PACKAGES $JULIA_PACKAGES_IF_GPU\"\n",
        "  fi\n",
        "  for PKG in `echo $JULIA_PACKAGES`; do\n",
        "    echo \"Installing Julia package $PKG...\"\n",
        "    julia -e 'using Pkg; pkg\"add '$PKG'; precompile;\"' &> /dev/null\n",
        "  done\n",
        "\n",
        "  # Install kernel and rename it to \"julia\"\n",
        "  echo \"Installing IJulia kernel...\"\n",
        "  julia -e 'using IJulia; IJulia.installkernel(\"julia\", env=Dict(\n",
        "      \"JULIA_NUM_THREADS\"=>\"'\"$JULIA_NUM_THREADS\"'\"))'\n",
        "  KERNEL_DIR=`julia -e \"using IJulia; print(IJulia.kerneldir())\"`\n",
        "  KERNEL_NAME=`ls -d \"$KERNEL_DIR\"/julia*`\n",
        "  mv -f $KERNEL_NAME \"$KERNEL_DIR\"/julia  \n",
        "\n",
        "  echo ''\n",
        "  echo \"Successfully installed `julia -v`!\"\n",
        "  echo \"Please reload this page (press Ctrl+R, ⌘+R, or the F5 key) then\"\n",
        "  echo \"jump to the 'Checking the Installation' section.\"\n",
        "fi"
      ],
      "execution_count": null,
      "outputs": [
        {
          "output_type": "stream",
          "name": "stdout",
          "text": [
            "Installing Julia 1.8.2 on the current Colab Runtime...\n",
            "2023-02-13 19:08:27 URL:https://storage.googleapis.com/julialang2/bin/linux/x64/1.8/julia-1.8.2-linux-x86_64.tar.gz [135859273/135859273] -> \"/tmp/julia.tar.gz\" [1]\n",
            "Installing Julia package IJulia...\n"
          ]
        }
      ]
    },
    {
      "cell_type": "markdown",
      "metadata": {
        "id": "-OS3Ac017T1i"
      },
      "source": [
        "# Checking the Installation\n",
        "**REMEMBER TO LOAD THE PAGE BY RUNNING F5 IF the following command does not work**\n",
        "\n",
        "The `versioninfo()` function should print your Julia version and some other info about the system:"
      ]
    },
    {
      "cell_type": "code",
      "metadata": {
        "id": "EEzvvzCl1i0F",
        "colab": {
          "base_uri": "https://localhost:8080/"
        },
        "outputId": "f651b79b-639e-45f5-f74d-f985d69bddfb"
      },
      "source": [
        "versioninfo()"
      ],
      "execution_count": 1,
      "outputs": [
        {
          "output_type": "stream",
          "name": "stdout",
          "text": [
            "Julia Version 1.8.2\n",
            "Commit 36034abf260 (2022-09-29 15:21 UTC)\n",
            "Platform Info:\n",
            "  OS: Linux (x86_64-linux-gnu)\n",
            "  CPU: 2 × AMD EPYC 7B12\n",
            "  WORD_SIZE: 64\n",
            "  LIBM: libopenlibm\n",
            "  LLVM: libLLVM-13.0.1 (ORCJIT, znver2)\n",
            "  Threads: 2 on 2 virtual cores\n",
            "Environment:\n",
            "  LD_LIBRARY_PATH = /usr/local/nvidia/lib:/usr/local/nvidia/lib64\n",
            "  JULIA_NUM_THREADS = 2\n"
          ]
        }
      ]
    },
    {
      "cell_type": "markdown",
      "metadata": {
        "id": "oEqeweODYnq7"
      },
      "source": [
        "# Use Arblib to test the package to show higher precision\n",
        "\n",
        "Which demostrates Chebyshev has cubic convergence and Newton has quadratic convergence"
      ]
    },
    {
      "cell_type": "code",
      "metadata": {
        "id": "yQlpeR9wNOi8",
        "colab": {
          "base_uri": "https://localhost:8080/"
        },
        "outputId": "7713980a-7f9b-4b38-d7b5-5d9917f0e329"
      },
      "source": [
        "using Pkg\n",
        "Pkg.add(\"Arblib\")\n",
        "using Arblib\n",
        "using LinearAlgebra\n",
        "using Printf\n",
        "import Random\n",
        "\n"
      ],
      "execution_count": 2,
      "outputs": [
        {
          "output_type": "stream",
          "name": "stderr",
          "text": [
            "\u001b[32m\u001b[1m    Updating\u001b[22m\u001b[39m registry at `~/.julia/registries/General.toml`\n",
            "\u001b[32m\u001b[1m   Resolving\u001b[22m\u001b[39m package versions...\n",
            "\u001b[32m\u001b[1m   Installed\u001b[22m\u001b[39m FLINT_jll ─────────── v200.900.4+0\n",
            "\u001b[32m\u001b[1m   Installed\u001b[22m\u001b[39m IrrationalConstants ─ v0.1.1\n",
            "\u001b[32m\u001b[1m   Installed\u001b[22m\u001b[39m Arb_jll ───────────── v200.2300.0+0\n",
            "\u001b[32m\u001b[1m   Installed\u001b[22m\u001b[39m OpenBLAS32_jll ────── v0.3.17+0\n",
            "\u001b[32m\u001b[1m   Installed\u001b[22m\u001b[39m OpenSpecFun_jll ───── v0.5.5+0\n",
            "\u001b[32m\u001b[1m   Installed\u001b[22m\u001b[39m SpecialFunctions ──── v2.1.7\n",
            "\u001b[32m\u001b[1m   Installed\u001b[22m\u001b[39m Compat ────────────── v4.6.0\n",
            "\u001b[32m\u001b[1m   Installed\u001b[22m\u001b[39m LogExpFunctions ───── v0.3.21\n",
            "\u001b[32m\u001b[1m   Installed\u001b[22m\u001b[39m Arblib ────────────── v0.8.1\n",
            "\u001b[32m\u001b[1m   Installed\u001b[22m\u001b[39m ChainRulesCore ────── v1.15.7\n",
            "\u001b[32m\u001b[1m   Installed\u001b[22m\u001b[39m ChangesOfVariables ── v0.1.5\n",
            "\u001b[32m\u001b[1m   Installed\u001b[22m\u001b[39m InverseFunctions ──── v0.1.8\n",
            "\u001b[32m\u001b[1m   Installed\u001b[22m\u001b[39m DocStringExtensions ─ v0.9.3\n",
            "\u001b[32m\u001b[1m    Updating\u001b[22m\u001b[39m `~/.julia/environments/v1.8/Project.toml`\n",
            " \u001b[90m [fb37089c] \u001b[39m\u001b[92m+ Arblib v0.8.1\u001b[39m\n",
            "\u001b[32m\u001b[1m    Updating\u001b[22m\u001b[39m `~/.julia/environments/v1.8/Manifest.toml`\n",
            " \u001b[90m [fb37089c] \u001b[39m\u001b[92m+ Arblib v0.8.1\u001b[39m\n",
            " \u001b[90m [d360d2e6] \u001b[39m\u001b[92m+ ChainRulesCore v1.15.7\u001b[39m\n",
            " \u001b[90m [9e997f8a] \u001b[39m\u001b[92m+ ChangesOfVariables v0.1.5\u001b[39m\n",
            " \u001b[90m [34da2185] \u001b[39m\u001b[92m+ Compat v4.6.0\u001b[39m\n",
            " \u001b[90m [ffbed154] \u001b[39m\u001b[92m+ DocStringExtensions v0.9.3\u001b[39m\n",
            " \u001b[90m [3587e190] \u001b[39m\u001b[92m+ InverseFunctions v0.1.8\u001b[39m\n",
            " \u001b[90m [92d709cd] \u001b[39m\u001b[92m+ IrrationalConstants v0.1.1\u001b[39m\n",
            " \u001b[90m [2ab3a3ac] \u001b[39m\u001b[92m+ LogExpFunctions v0.3.21\u001b[39m\n",
            " \u001b[90m [276daf66] \u001b[39m\u001b[92m+ SpecialFunctions v2.1.7\u001b[39m\n",
            " \u001b[90m [d9960996] \u001b[39m\u001b[92m+ Arb_jll v200.2300.0+0\u001b[39m\n",
            " \u001b[90m [e134572f] \u001b[39m\u001b[92m+ FLINT_jll v200.900.4+0\u001b[39m\n",
            "\u001b[33m⌅\u001b[39m\u001b[90m [656ef2d0] \u001b[39m\u001b[92m+ OpenBLAS32_jll v0.3.17+0\u001b[39m\n",
            " \u001b[90m [efe28fd5] \u001b[39m\u001b[92m+ OpenSpecFun_jll v0.5.5+0\u001b[39m\n",
            " \u001b[90m [781609d7] \u001b[39m\u001b[92m+ GMP_jll v6.2.1+2\u001b[39m\n",
            " \u001b[90m [3a97d323] \u001b[39m\u001b[92m+ MPFR_jll v4.1.1+1\u001b[39m\n",
            " \u001b[90m [05823500] \u001b[39m\u001b[92m+ OpenLibm_jll v0.8.1+0\u001b[39m\n",
            "\u001b[36m\u001b[1m        Info\u001b[22m\u001b[39m Packages marked with \u001b[33m⌅\u001b[39m have new versions available but compatibility constraints restrict them from upgrading. To see why use `status --outdated -m`\n",
            "\u001b[32m\u001b[1mPrecompiling\u001b[22m\u001b[39m project...\n",
            "\u001b[32m  ✓ \u001b[39m\u001b[90mOpenLibm_jll\u001b[39m\n",
            "\u001b[32m  ✓ \u001b[39m\u001b[90mCompat\u001b[39m\n",
            "\u001b[32m  ✓ \u001b[39m\u001b[90mIrrationalConstants\u001b[39m\n",
            "\u001b[32m  ✓ \u001b[39m\u001b[90mGMP_jll\u001b[39m\n",
            "\u001b[32m  ✓ \u001b[39m\u001b[90mInverseFunctions\u001b[39m\n",
            "\u001b[32m  ✓ \u001b[39m\u001b[90mDocStringExtensions\u001b[39m\n",
            "\u001b[32m  ✓ \u001b[39m\u001b[90mOpenSpecFun_jll\u001b[39m\n",
            "\u001b[32m  ✓ \u001b[39m\u001b[90mOpenBLAS32_jll\u001b[39m\n",
            "\u001b[32m  ✓ \u001b[39m\u001b[90mMPFR_jll\u001b[39m\n",
            "\u001b[32m  ✓ \u001b[39m\u001b[90mFLINT_jll\u001b[39m\n",
            "\u001b[32m  ✓ \u001b[39m\u001b[90mArb_jll\u001b[39m\n",
            "\u001b[32m  ✓ \u001b[39m\u001b[90mChainRulesCore\u001b[39m\n",
            "\u001b[32m  ✓ \u001b[39m\u001b[90mChangesOfVariables\u001b[39m\n",
            "\u001b[32m  ✓ \u001b[39m\u001b[90mLogExpFunctions\u001b[39m\n",
            "\u001b[32m  ✓ \u001b[39m\u001b[90mSpecialFunctions\u001b[39m\n",
            "\u001b[32m  ✓ \u001b[39mArblib\n",
            "  16 dependencies successfully precompiled in 16 seconds. 20 already precompiled.\n"
          ]
        }
      ]
    },
    {
      "cell_type": "markdown",
      "source": [
        "# a few functions to generate random symmetric tensors"
      ],
      "metadata": {
        "id": "a38-r8-o6Lu8"
      }
    },
    {
      "cell_type": "code",
      "source": [
        "using Arblib\n",
        "using LinearAlgebra\n",
        "using Printf\n",
        "import Random\n",
        "\n",
        "\n",
        "function run_one_group(x0, A, b)\n",
        "  function Newton(x)\n",
        "      lbd = sum(x.*(A*x-b))\n",
        "      Lx = A - lbd*I\n",
        "      luLx = lu(Lx)\n",
        "      ldiv!(rbx, luLx, hcat(b, x))\n",
        "          \n",
        "      ft = (1 - sum(x.*rbx[:, 1]))/sum(x.*rbx[:, 2])\n",
        "      return (rbx[:, 1] + rbx[:, 2]*ft)/norm(rbx[:, 1] + rbx[:, 2]*ft), lbd\n",
        "  end\n",
        "\n",
        "  function Chebyshev(x)\n",
        "      lbd = sum(x.*(A*x-b))        \n",
        "      Lx[:] = A - lbd*I\n",
        "      chev1 = ArbMatrix(zeros(n, 1), prec=prec)\n",
        "      luLx = lu(Lx)\n",
        "      ldiv!(rbx, luLx, hcat(b, x))        \n",
        "      ft = (1 - sum(x.*rbx[:, 1]))/sum(x.*rbx[:, 2])    \n",
        "      eta = - x + rbx[:, 1] + rbx[:, 2]*ft\n",
        "      Rp = sum(eta.*((A+A')*x .- b))   \n",
        "\n",
        "      ldiv!(chev1, Lx, reshape(eta, n, 1))\n",
        "      chev1 .*= -2*Rp\n",
        "      chev1 .-= sum(eta.*eta)*x\n",
        "      \n",
        "      chev =  chev1 .- sum(x.*chev1)/sum(x.*rbx[:, 2])*rbx[:, 2]\n",
        "      etaC = eta .- 0.5*chev\n",
        "      return (x+etaC)/norm(x+etaC), lbd\n",
        "  end    \n",
        "\n",
        "  for i in 1:10\n",
        "      x0, lbd = Newton(x0)\n",
        "      diffs = A*x0 .- lbd*x0 .- b\n",
        "      dch = sum(diffs.*diffs)^0.5\n",
        "      @printf(\"WARM UP %.3e\\n\", sum(diffs.*diffs)^0.5)\n",
        "      if isnan(dch) | (dch < 5e-2)\n",
        "          break\n",
        "      end\n",
        "  end\n",
        "\n",
        "  x = copy(x0)\n",
        "  for i in 1:20\n",
        "      x, lbd = Newton(x)\n",
        "      diffs = A*x .- lbd*x .- b\n",
        "      dch = sum(diffs.*diffs)^0.5\n",
        "      @printf(\"RAYLEIGH %.3e\\n\", dch)\n",
        "      if isnan(dch) | (dch < 1e-30)\n",
        "          break\n",
        "      end\n",
        "  end\n",
        "\n",
        "  x = copy(x0)\n",
        "  for i in 1:20\n",
        "      x, lbd = Chebyshev(x)\n",
        "      diffs = A*x .- lbd*x .- b\n",
        "      dch = sum(diffs.*diffs)^0.5\n",
        "      @printf(\"RAYLEIGH-CHEBYSHEV %.3e\\n\", dch)\n",
        "      if isnan(dch) | (dch < 1e-30)\n",
        "          break\n",
        "      end\n",
        "  end\n",
        "end\n"
      ],
      "metadata": {
        "id": "SU2reSwCJKXO",
        "colab": {
          "base_uri": "https://localhost:8080/"
        },
        "outputId": "26a5957f-e820-4187-ca8a-6824a2ff041b"
      },
      "execution_count": 3,
      "outputs": [
        {
          "output_type": "execute_result",
          "data": {
            "text/plain": [
              "run_one_group (generic function with 1 method)"
            ]
          },
          "metadata": {},
          "execution_count": 3
        }
      ]
    },
    {
      "cell_type": "code",
      "source": [
        "Random.seed!(0)\n",
        "prec = 512\n",
        "n = 10\n",
        "\n",
        "A = ArbMatrix(Random.rand(n, n); prec=prec)\n",
        "\n",
        "\n",
        "b = ArbMatrix(Random.rand(n), prec=prec)\n",
        "\n",
        "rbx = ArbMatrix(zeros(n, 2), prec=prec)\n",
        "Lx = copy(A)\n",
        "x0 = ArbMatrix(Random.rand(n), prec=prec)\n",
        "run_one_group(x0, A, b)\n"
      ],
      "metadata": {
        "colab": {
          "base_uri": "https://localhost:8080/"
        },
        "id": "pjupHc-FIJlE",
        "outputId": "729469cf-c719-4b97-aa50-fc102b73ce95"
      },
      "execution_count": 11,
      "outputs": [
        {
          "output_type": "stream",
          "name": "stdout",
          "text": [
            "WARM UP 6.935e+00\n",
            "WARM UP 1.177e-01\n",
            "WARM UP 4.615e-03\n",
            "RAYLEIGH 6.986e-06\n",
            "RAYLEIGH 2.368e-11\n",
            "RAYLEIGH 3.500e-22\n",
            "RAYLEIGH 9.982e-44\n",
            "RAYLEIGH-CHEBYSHEV 6.986e-06\n",
            "RAYLEIGH-CHEBYSHEV 6.511e-15\n",
            "RAYLEIGH-CHEBYSHEV 5.208e-42\n"
          ]
        }
      ]
    },
    {
      "cell_type": "code",
      "source": [],
      "metadata": {
        "id": "JRtEMOtdKGo0"
      },
      "execution_count": 5,
      "outputs": []
    }
  ]
}